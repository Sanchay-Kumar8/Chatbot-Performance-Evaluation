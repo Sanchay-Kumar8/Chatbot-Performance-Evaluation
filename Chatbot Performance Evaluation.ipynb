{
 "cells": [
  {
   "cell_type": "code",
   "execution_count": 15,
   "metadata": {},
   "outputs": [
    {
     "name": "stderr",
     "output_type": "stream",
     "text": [
      "[nltk_data] Downloading package omw-1.4 to C:\\Users\\kumar/nltk_data...\n"
     ]
    },
    {
     "data": {
      "text/plain": [
       "True"
      ]
     },
     "execution_count": 15,
     "metadata": {},
     "output_type": "execute_result"
    }
   ],
   "source": [
    "nltk.download('omw-1.4')"
   ]
  },
  {
   "cell_type": "code",
   "execution_count": 66,
   "metadata": {},
   "outputs": [
    {
     "name": "stdout",
     "output_type": "stream",
     "text": [
      "Collecting pydot\n",
      "  Downloading pydot-1.4.2-py2.py3-none-any.whl (21 kB)\n",
      "Requirement already satisfied: pyparsing>=2.1.4 in c:\\users\\kumar\\anaconda3\\lib\\site-packages (from pydot) (3.0.4)\n",
      "Installing collected packages: pydot\n",
      "Successfully installed pydot-1.4.2\n",
      "Note: you may need to restart the kernel to use updated packages.\n"
     ]
    }
   ],
   "source": [
    "pip install pydot"
   ]
  },
  {
   "cell_type": "code",
   "execution_count": 67,
   "metadata": {},
   "outputs": [
    {
     "name": "stdout",
     "output_type": "stream",
     "text": [
      "Collecting graphviz\n",
      "  Downloading graphviz-0.20.1-py3-none-any.whl (47 kB)\n",
      "Installing collected packages: graphviz\n",
      "Successfully installed graphviz-0.20.1\n",
      "Note: you may need to restart the kernel to use updated packages.\n"
     ]
    }
   ],
   "source": [
    "pip install graphviz"
   ]
  },
  {
   "cell_type": "code",
   "execution_count": 1,
   "metadata": {
    "id": "YR-ilUaKO1mR"
   },
   "outputs": [],
   "source": [
    "# import libraries\n",
    "\n",
    "import pandas as pd \n",
    "import numpy as np \n",
    "import matplotlib.pyplot as plt\n",
    "from pathlib import Path\n",
    "import string\n",
    "import re\n",
    "import joblib\n",
    "import json\n",
    "from collections import Counter\n",
    "import nltk\n",
    "from nltk.corpus import stopwords\n",
    "from nltk.stem import WordNetLemmatizer\n",
    "import pickle\n",
    "\n",
    "from tensorflow.keras.preprocessing.text import Tokenizer\n",
    "from tensorflow.keras.preprocessing.sequence import pad_sequences\n",
    "from tensorflow.keras.utils import plot_model\n",
    "from tensorflow.keras.models import Sequential, Model\n",
    "from tensorflow.keras.layers import Embedding, Dense, Flatten, Conv1D, MaxPooling1D, SimpleRNN, GRU, LSTM, LSTM, Input, Embedding, TimeDistributed, Flatten, Dropout,Bidirectional\n",
    "from tensorflow.keras.callbacks import ModelCheckpoint, EarlyStopping, ReduceLROnPlateau"
   ]
  },
  {
   "cell_type": "code",
   "execution_count": 2,
   "metadata": {
    "id": "zo9OE78qO9Pe"
   },
   "outputs": [
    {
     "name": "stderr",
     "output_type": "stream",
     "text": [
      "[nltk_data] Downloading package stopwords to\n",
      "[nltk_data]     C:\\Users\\kumar/nltk_data...\n",
      "[nltk_data]   Package stopwords is already up-to-date!\n",
      "[nltk_data] Downloading package wordnet to C:\\Users\\kumar/nltk_data...\n",
      "[nltk_data]   Package wordnet is already up-to-date!\n"
     ]
    },
    {
     "data": {
      "text/plain": [
       "True"
      ]
     },
     "execution_count": 2,
     "metadata": {},
     "output_type": "execute_result"
    }
   ],
   "source": [
    "import nltk\n",
    "nltk.download('stopwords')\n",
    "nltk.download('wordnet')"
   ]
  },
  {
   "cell_type": "code",
   "execution_count": 3,
   "metadata": {},
   "outputs": [
    {
     "name": "stdout",
     "output_type": "stream",
     "text": [
      "D:\\\n"
     ]
    }
   ],
   "source": [
    "cd \"D:\\\""
   ]
  },
  {
   "cell_type": "code",
   "execution_count": 4,
   "metadata": {
    "colab": {
     "base_uri": "https://localhost:8080/"
    },
    "id": "EnLqRE6uS2Hb",
    "outputId": "470b6d1a-7f26-4d8e-b60c-48e3db2e2991"
   },
   "outputs": [
    {
     "data": {
      "text/plain": [
       "{'intents': [{'tag': 'definition',\n",
       "   'patterns': ['What does it mean to have a mental illness?',\n",
       "    'What is mental health illness',\n",
       "    'Describe mental health illness'],\n",
       "   'responses': [\"Mental illnesses are health conditions that disrupt a person's thoughts, emotions, relationships, and daily functioning.\"],\n",
       "   'context': ['']},\n",
       "  {'tag': 'affects_whom',\n",
       "   'patterns': ['Who does mental illness affect?',\n",
       "    'Who is affected by mentall illness'],\n",
       "   'responses': ['It is estimated that mental illness affects 1 in 5 adults in America, and that 1 in 24 adults have a serious mental illness.'],\n",
       "   'context': ['']},\n",
       "  {'tag': 'what_causes',\n",
       "   'patterns': ['What causes mental illness?',\n",
       "    'What leads to mental illness?',\n",
       "    'how does one get mentally ill?'],\n",
       "   'responses': ['Symptoms of mental health disorders vary depending on the type and severity of the condition.'],\n",
       "   'context': ['']},\n",
       "  {'tag': 'recover',\n",
       "   'patterns': ['Can people with mental illness recover?',\n",
       "    'Is it possible to recover from mental illness'],\n",
       "   'responses': ['When healing from mental illness, early identification and treatment are of vital importance. Based on the nature of the illness, there are a range of effective treatments available. For any type of treatment, it is essential that the person affected is proactive and fully engaged in their own recovery process. Many people with mental illnesses who are diagnosed and treated respond well, although some might experience a return of symptoms. Even in such cases, with careful monitoring and management of the disorder, it is still quite possible to live a fulfilled and productive life.'],\n",
       "   'context': ['']},\n",
       "  {'tag': 'steps',\n",
       "   'patterns': ['I know someone who appears to have such symptoms?',\n",
       "    'What are the steps to be followed incase of symptoms'],\n",
       "   'responses': [\"Although this website cannot substitute for professional advice, we encourage those with symptoms to talk to their friends and family members and seek the counsel of a mental health professional. The sooner the mental health condition is identified and treated, the sooner they can get on the path to recovery.If you know someone who is having problems, don't assume that the issue will resolve itself. Let them know that you care about them, and that there are treatment options available that will help them heal. Speak with a mental health professional or counselor if you think your friend or family member is experiencing the symptoms of a mental health condition. If the affected loved one knows that you support them, they will be more likely to seek out help.\"],\n",
       "   'context': ['']},\n",
       "  {'tag': 'find_help',\n",
       "   'patterns': ['How to find mental health professional for myself',\n",
       "    'How to find mental health professional?'],\n",
       "   'responses': ['Feeling comfortable with the professional you or your child is working with is critical to the success of the treatment. Finding the professional who best fits your needs may require research. Start by searching for providers in your area.'],\n",
       "   'context': ['']},\n",
       "  {'tag': 'treatement_options',\n",
       "   'patterns': ['What treatment options are available?',\n",
       "    'How can one recover?'],\n",
       "   'responses': ['Just as there are different types of medications for physical illness, different treatment options are available for individuals with mental illness. Treatment works differently for different people. It is important to find what works best for you or your child.'],\n",
       "   'context': ['']},\n",
       "  {'tag': 'treatment_tips',\n",
       "   'patterns': ['How to become involved in treatment?',\n",
       "    'What should I keep in mind if I begin treatment?'],\n",
       "   'responses': ['Since beginning treatment is a big step for individuals and families, it can be very overwhelming.'],\n",
       "   'context': ['']},\n",
       "  {'tag': 'professional_types',\n",
       "   'patterns': ['What is the difference between mental health professionals?',\n",
       "    'What are the different types of mental health professionals present?'],\n",
       "   'responses': ['There are many types of mental health professionals. The variety of providers and their services may be confusing. Each have various levels of education, training, and may have different areas of expertise. Finding the professional who best fits your needs may require some research.'],\n",
       "   'context': ['']},\n",
       "  {'tag': 'right_professional',\n",
       "   'patterns': ['How can I find a mental health professional right myself?',\n",
       "    'How to find the right mental health professional?'],\n",
       "   'responses': ['Feeling comfortable with the professional you or your child is working with is critical to the success of your treatment. Finding the professional who best fits your needs may require some research.'],\n",
       "   'context': ['']}]}"
      ]
     },
     "execution_count": 4,
     "metadata": {},
     "output_type": "execute_result"
    }
   ],
   "source": [
    "\n",
    "with open('mentalhealth.json') as file:\n",
    "  data = json.load(file)\n",
    "\n",
    "data"
   ]
  },
  {
   "cell_type": "code",
   "execution_count": 5,
   "metadata": {
    "id": "UHalec2-OgjC"
   },
   "outputs": [],
   "source": [
    "def frame_data(feat_1,feat_2,is_pattern):\n",
    "  is_pattern = is_pattern\n",
    "  df = pd.DataFrame(columns=[feat_1,feat_2])\n",
    "  for intent in data['intents']:\n",
    "    if is_pattern:\n",
    "      for pattern in intent['patterns']:\n",
    "        w = pattern\n",
    "        df_to_append = pd.Series([w,intent['tag']], index = df.columns)\n",
    "        df = df.append(df_to_append,ignore_index=True)\n",
    "    else:\n",
    "      for response in intent['responses']:\n",
    "        w = response\n",
    "        df_to_append = pd.Series([w,intent['tag']], index = df.columns)\n",
    "        df = df.append(df_to_append,ignore_index=True)\n",
    "  return df"
   ]
  },
  {
   "cell_type": "code",
   "execution_count": 6,
   "metadata": {
    "colab": {
     "base_uri": "https://localhost:8080/",
     "height": 203
    },
    "id": "nzHe4LRwS7KL",
    "outputId": "ef19fb8a-89f4-42ea-e294-e32758e746ea"
   },
   "outputs": [
    {
     "name": "stderr",
     "output_type": "stream",
     "text": [
      "C:\\Users\\kumar\\AppData\\Local\\Temp\\ipykernel_956\\3657095161.py:9: FutureWarning: The frame.append method is deprecated and will be removed from pandas in a future version. Use pandas.concat instead.\n",
      "  df = df.append(df_to_append,ignore_index=True)\n",
      "C:\\Users\\kumar\\AppData\\Local\\Temp\\ipykernel_956\\3657095161.py:9: FutureWarning: The frame.append method is deprecated and will be removed from pandas in a future version. Use pandas.concat instead.\n",
      "  df = df.append(df_to_append,ignore_index=True)\n",
      "C:\\Users\\kumar\\AppData\\Local\\Temp\\ipykernel_956\\3657095161.py:9: FutureWarning: The frame.append method is deprecated and will be removed from pandas in a future version. Use pandas.concat instead.\n",
      "  df = df.append(df_to_append,ignore_index=True)\n",
      "C:\\Users\\kumar\\AppData\\Local\\Temp\\ipykernel_956\\3657095161.py:9: FutureWarning: The frame.append method is deprecated and will be removed from pandas in a future version. Use pandas.concat instead.\n",
      "  df = df.append(df_to_append,ignore_index=True)\n",
      "C:\\Users\\kumar\\AppData\\Local\\Temp\\ipykernel_956\\3657095161.py:9: FutureWarning: The frame.append method is deprecated and will be removed from pandas in a future version. Use pandas.concat instead.\n",
      "  df = df.append(df_to_append,ignore_index=True)\n",
      "C:\\Users\\kumar\\AppData\\Local\\Temp\\ipykernel_956\\3657095161.py:9: FutureWarning: The frame.append method is deprecated and will be removed from pandas in a future version. Use pandas.concat instead.\n",
      "  df = df.append(df_to_append,ignore_index=True)\n",
      "C:\\Users\\kumar\\AppData\\Local\\Temp\\ipykernel_956\\3657095161.py:9: FutureWarning: The frame.append method is deprecated and will be removed from pandas in a future version. Use pandas.concat instead.\n",
      "  df = df.append(df_to_append,ignore_index=True)\n",
      "C:\\Users\\kumar\\AppData\\Local\\Temp\\ipykernel_956\\3657095161.py:9: FutureWarning: The frame.append method is deprecated and will be removed from pandas in a future version. Use pandas.concat instead.\n",
      "  df = df.append(df_to_append,ignore_index=True)\n",
      "C:\\Users\\kumar\\AppData\\Local\\Temp\\ipykernel_956\\3657095161.py:9: FutureWarning: The frame.append method is deprecated and will be removed from pandas in a future version. Use pandas.concat instead.\n",
      "  df = df.append(df_to_append,ignore_index=True)\n",
      "C:\\Users\\kumar\\AppData\\Local\\Temp\\ipykernel_956\\3657095161.py:9: FutureWarning: The frame.append method is deprecated and will be removed from pandas in a future version. Use pandas.concat instead.\n",
      "  df = df.append(df_to_append,ignore_index=True)\n",
      "C:\\Users\\kumar\\AppData\\Local\\Temp\\ipykernel_956\\3657095161.py:9: FutureWarning: The frame.append method is deprecated and will be removed from pandas in a future version. Use pandas.concat instead.\n",
      "  df = df.append(df_to_append,ignore_index=True)\n",
      "C:\\Users\\kumar\\AppData\\Local\\Temp\\ipykernel_956\\3657095161.py:9: FutureWarning: The frame.append method is deprecated and will be removed from pandas in a future version. Use pandas.concat instead.\n",
      "  df = df.append(df_to_append,ignore_index=True)\n",
      "C:\\Users\\kumar\\AppData\\Local\\Temp\\ipykernel_956\\3657095161.py:9: FutureWarning: The frame.append method is deprecated and will be removed from pandas in a future version. Use pandas.concat instead.\n",
      "  df = df.append(df_to_append,ignore_index=True)\n",
      "C:\\Users\\kumar\\AppData\\Local\\Temp\\ipykernel_956\\3657095161.py:9: FutureWarning: The frame.append method is deprecated and will be removed from pandas in a future version. Use pandas.concat instead.\n",
      "  df = df.append(df_to_append,ignore_index=True)\n",
      "C:\\Users\\kumar\\AppData\\Local\\Temp\\ipykernel_956\\3657095161.py:9: FutureWarning: The frame.append method is deprecated and will be removed from pandas in a future version. Use pandas.concat instead.\n",
      "  df = df.append(df_to_append,ignore_index=True)\n",
      "C:\\Users\\kumar\\AppData\\Local\\Temp\\ipykernel_956\\3657095161.py:9: FutureWarning: The frame.append method is deprecated and will be removed from pandas in a future version. Use pandas.concat instead.\n",
      "  df = df.append(df_to_append,ignore_index=True)\n",
      "C:\\Users\\kumar\\AppData\\Local\\Temp\\ipykernel_956\\3657095161.py:9: FutureWarning: The frame.append method is deprecated and will be removed from pandas in a future version. Use pandas.concat instead.\n",
      "  df = df.append(df_to_append,ignore_index=True)\n",
      "C:\\Users\\kumar\\AppData\\Local\\Temp\\ipykernel_956\\3657095161.py:9: FutureWarning: The frame.append method is deprecated and will be removed from pandas in a future version. Use pandas.concat instead.\n",
      "  df = df.append(df_to_append,ignore_index=True)\n",
      "C:\\Users\\kumar\\AppData\\Local\\Temp\\ipykernel_956\\3657095161.py:9: FutureWarning: The frame.append method is deprecated and will be removed from pandas in a future version. Use pandas.concat instead.\n",
      "  df = df.append(df_to_append,ignore_index=True)\n",
      "C:\\Users\\kumar\\AppData\\Local\\Temp\\ipykernel_956\\3657095161.py:9: FutureWarning: The frame.append method is deprecated and will be removed from pandas in a future version. Use pandas.concat instead.\n",
      "  df = df.append(df_to_append,ignore_index=True)\n",
      "C:\\Users\\kumar\\AppData\\Local\\Temp\\ipykernel_956\\3657095161.py:9: FutureWarning: The frame.append method is deprecated and will be removed from pandas in a future version. Use pandas.concat instead.\n",
      "  df = df.append(df_to_append,ignore_index=True)\n",
      "C:\\Users\\kumar\\AppData\\Local\\Temp\\ipykernel_956\\3657095161.py:9: FutureWarning: The frame.append method is deprecated and will be removed from pandas in a future version. Use pandas.concat instead.\n",
      "  df = df.append(df_to_append,ignore_index=True)\n"
     ]
    },
    {
     "data": {
      "text/html": [
       "<div>\n",
       "<style scoped>\n",
       "    .dataframe tbody tr th:only-of-type {\n",
       "        vertical-align: middle;\n",
       "    }\n",
       "\n",
       "    .dataframe tbody tr th {\n",
       "        vertical-align: top;\n",
       "    }\n",
       "\n",
       "    .dataframe thead th {\n",
       "        text-align: right;\n",
       "    }\n",
       "</style>\n",
       "<table border=\"1\" class=\"dataframe\">\n",
       "  <thead>\n",
       "    <tr style=\"text-align: right;\">\n",
       "      <th></th>\n",
       "      <th>questions</th>\n",
       "      <th>labels</th>\n",
       "    </tr>\n",
       "  </thead>\n",
       "  <tbody>\n",
       "    <tr>\n",
       "      <th>0</th>\n",
       "      <td>What does it mean to have a mental illness?</td>\n",
       "      <td>definition</td>\n",
       "    </tr>\n",
       "    <tr>\n",
       "      <th>1</th>\n",
       "      <td>What is mental health illness</td>\n",
       "      <td>definition</td>\n",
       "    </tr>\n",
       "    <tr>\n",
       "      <th>2</th>\n",
       "      <td>Describe mental health illness</td>\n",
       "      <td>definition</td>\n",
       "    </tr>\n",
       "    <tr>\n",
       "      <th>3</th>\n",
       "      <td>Who does mental illness affect?</td>\n",
       "      <td>affects_whom</td>\n",
       "    </tr>\n",
       "    <tr>\n",
       "      <th>4</th>\n",
       "      <td>Who is affected by mentall illness</td>\n",
       "      <td>affects_whom</td>\n",
       "    </tr>\n",
       "  </tbody>\n",
       "</table>\n",
       "</div>"
      ],
      "text/plain": [
       "                                     questions        labels\n",
       "0  What does it mean to have a mental illness?    definition\n",
       "1                What is mental health illness    definition\n",
       "2               Describe mental health illness    definition\n",
       "3              Who does mental illness affect?  affects_whom\n",
       "4           Who is affected by mentall illness  affects_whom"
      ]
     },
     "execution_count": 6,
     "metadata": {},
     "output_type": "execute_result"
    }
   ],
   "source": [
    "df1 = frame_data('questions','labels',True)\n",
    "df1.head()"
   ]
  },
  {
   "cell_type": "code",
   "execution_count": 7,
   "metadata": {
    "colab": {
     "base_uri": "https://localhost:8080/"
    },
    "id": "dBK6Wzi-S7GW",
    "outputId": "861808e1-063b-4d1f-b0d7-dd5564e2ee30"
   },
   "outputs": [
    {
     "data": {
      "text/plain": [
       "definition            3\n",
       "affects_whom          2\n",
       "what_causes           3\n",
       "recover               2\n",
       "steps                 2\n",
       "find_help             2\n",
       "treatement_options    2\n",
       "treatment_tips        2\n",
       "professional_types    2\n",
       "right_professional    2\n",
       "Name: labels, dtype: int64"
      ]
     },
     "execution_count": 7,
     "metadata": {},
     "output_type": "execute_result"
    }
   ],
   "source": [
    "# no of patterns\n",
    "(df1.labels.value_counts(sort=False))"
   ]
  },
  {
   "cell_type": "code",
   "execution_count": 8,
   "metadata": {
    "colab": {
     "base_uri": "https://localhost:8080/",
     "height": 203
    },
    "id": "me9oCoFmS7EI",
    "outputId": "730658df-9755-4b6f-fba7-68904e0f1ae0"
   },
   "outputs": [
    {
     "name": "stderr",
     "output_type": "stream",
     "text": [
      "C:\\Users\\kumar\\AppData\\Local\\Temp\\ipykernel_9108\\3657095161.py:14: FutureWarning: The frame.append method is deprecated and will be removed from pandas in a future version. Use pandas.concat instead.\n",
      "  df = df.append(df_to_append,ignore_index=True)\n",
      "C:\\Users\\kumar\\AppData\\Local\\Temp\\ipykernel_9108\\3657095161.py:14: FutureWarning: The frame.append method is deprecated and will be removed from pandas in a future version. Use pandas.concat instead.\n",
      "  df = df.append(df_to_append,ignore_index=True)\n",
      "C:\\Users\\kumar\\AppData\\Local\\Temp\\ipykernel_9108\\3657095161.py:14: FutureWarning: The frame.append method is deprecated and will be removed from pandas in a future version. Use pandas.concat instead.\n",
      "  df = df.append(df_to_append,ignore_index=True)\n",
      "C:\\Users\\kumar\\AppData\\Local\\Temp\\ipykernel_9108\\3657095161.py:14: FutureWarning: The frame.append method is deprecated and will be removed from pandas in a future version. Use pandas.concat instead.\n",
      "  df = df.append(df_to_append,ignore_index=True)\n",
      "C:\\Users\\kumar\\AppData\\Local\\Temp\\ipykernel_9108\\3657095161.py:14: FutureWarning: The frame.append method is deprecated and will be removed from pandas in a future version. Use pandas.concat instead.\n",
      "  df = df.append(df_to_append,ignore_index=True)\n",
      "C:\\Users\\kumar\\AppData\\Local\\Temp\\ipykernel_9108\\3657095161.py:14: FutureWarning: The frame.append method is deprecated and will be removed from pandas in a future version. Use pandas.concat instead.\n",
      "  df = df.append(df_to_append,ignore_index=True)\n",
      "C:\\Users\\kumar\\AppData\\Local\\Temp\\ipykernel_9108\\3657095161.py:14: FutureWarning: The frame.append method is deprecated and will be removed from pandas in a future version. Use pandas.concat instead.\n",
      "  df = df.append(df_to_append,ignore_index=True)\n",
      "C:\\Users\\kumar\\AppData\\Local\\Temp\\ipykernel_9108\\3657095161.py:14: FutureWarning: The frame.append method is deprecated and will be removed from pandas in a future version. Use pandas.concat instead.\n",
      "  df = df.append(df_to_append,ignore_index=True)\n",
      "C:\\Users\\kumar\\AppData\\Local\\Temp\\ipykernel_9108\\3657095161.py:14: FutureWarning: The frame.append method is deprecated and will be removed from pandas in a future version. Use pandas.concat instead.\n",
      "  df = df.append(df_to_append,ignore_index=True)\n",
      "C:\\Users\\kumar\\AppData\\Local\\Temp\\ipykernel_9108\\3657095161.py:14: FutureWarning: The frame.append method is deprecated and will be removed from pandas in a future version. Use pandas.concat instead.\n",
      "  df = df.append(df_to_append,ignore_index=True)\n"
     ]
    },
    {
     "data": {
      "text/html": [
       "<div>\n",
       "<style scoped>\n",
       "    .dataframe tbody tr th:only-of-type {\n",
       "        vertical-align: middle;\n",
       "    }\n",
       "\n",
       "    .dataframe tbody tr th {\n",
       "        vertical-align: top;\n",
       "    }\n",
       "\n",
       "    .dataframe thead th {\n",
       "        text-align: right;\n",
       "    }\n",
       "</style>\n",
       "<table border=\"1\" class=\"dataframe\">\n",
       "  <thead>\n",
       "    <tr style=\"text-align: right;\">\n",
       "      <th></th>\n",
       "      <th>response</th>\n",
       "      <th>labels</th>\n",
       "    </tr>\n",
       "  </thead>\n",
       "  <tbody>\n",
       "    <tr>\n",
       "      <th>0</th>\n",
       "      <td>Mental illnesses are health conditions that di...</td>\n",
       "      <td>definition</td>\n",
       "    </tr>\n",
       "    <tr>\n",
       "      <th>1</th>\n",
       "      <td>It is estimated that mental illness affects 1 ...</td>\n",
       "      <td>affects_whom</td>\n",
       "    </tr>\n",
       "    <tr>\n",
       "      <th>2</th>\n",
       "      <td>Symptoms of mental health disorders vary depen...</td>\n",
       "      <td>what_causes</td>\n",
       "    </tr>\n",
       "    <tr>\n",
       "      <th>3</th>\n",
       "      <td>When healing from mental illness, early identi...</td>\n",
       "      <td>recover</td>\n",
       "    </tr>\n",
       "    <tr>\n",
       "      <th>4</th>\n",
       "      <td>Although this website cannot substitute for pr...</td>\n",
       "      <td>steps</td>\n",
       "    </tr>\n",
       "  </tbody>\n",
       "</table>\n",
       "</div>"
      ],
      "text/plain": [
       "                                            response        labels\n",
       "0  Mental illnesses are health conditions that di...    definition\n",
       "1  It is estimated that mental illness affects 1 ...  affects_whom\n",
       "2  Symptoms of mental health disorders vary depen...   what_causes\n",
       "3  When healing from mental illness, early identi...       recover\n",
       "4  Although this website cannot substitute for pr...         steps"
      ]
     },
     "execution_count": 8,
     "metadata": {},
     "output_type": "execute_result"
    }
   ],
   "source": [
    "df2 = frame_data('response','labels',False)\n",
    "df2.head()"
   ]
  },
  {
   "cell_type": "markdown",
   "metadata": {
    "id": "Ja0_TgzN5Xya"
   },
   "source": [
    "## Data preprocessing"
   ]
  },
  {
   "cell_type": "code",
   "execution_count": 9,
   "metadata": {
    "id": "YEVlJqEIR_ts"
   },
   "outputs": [],
   "source": [
    "lemmatizer = WordNetLemmatizer()\n",
    "\n",
    "vocab = Counter()\n",
    "labels = []\n",
    "def tokenizer(entry):\n",
    "    tokens = entry.split()\n",
    "    re_punc = re.compile('[%s]' % re.escape(string.punctuation))\n",
    "    tokens = [re_punc.sub('', w) for w in tokens]\n",
    "    tokens = [word for word in tokens if word.isalpha()]\n",
    "    tokens = [lemmatizer.lemmatize(w.lower()) for w in tokens]\n",
    "    tokens = [word.lower() for word in tokens if len(word) > 1]\n",
    "    return tokens\n",
    "\n",
    "def remove_stop_words(tokenizer,df,feature):\n",
    "    doc_without_stopwords = []\n",
    "    for entry in df[feature]:\n",
    "        tokens = tokenizer(entry)\n",
    "        joblib.dump(tokens,'tokens.pkl')\n",
    "        doc_without_stopwords.append(' '.join(tokens))\n",
    "    df[feature] = doc_without_stopwords\n",
    "    return"
   ]
  },
  {
   "cell_type": "code",
   "execution_count": 10,
   "metadata": {
    "id": "Jt61ZCG9UWN0"
   },
   "outputs": [],
   "source": [
    "def create_vocab(tokenizer,df,feature):\n",
    "    for entry in df[feature]:\n",
    "        tokens = tokenizer(entry)   \n",
    "        vocab.update(tokens)\n",
    "    joblib.dump(vocab,'vocab.pkl')\n",
    "    return"
   ]
  },
  {
   "cell_type": "code",
   "execution_count": 11,
   "metadata": {
    "id": "emdwHIQcUWJ-"
   },
   "outputs": [],
   "source": [
    "create_vocab(tokenizer,df1,'questions')"
   ]
  },
  {
   "cell_type": "code",
   "execution_count": 12,
   "metadata": {
    "colab": {
     "base_uri": "https://localhost:8080/"
    },
    "id": "IbK9OeYY0iWo",
    "outputId": "e058ceab-cdd4-4b40-eb08-ad9246b607d3"
   },
   "outputs": [
    {
     "data": {
      "text/plain": [
       "Counter({'what': 9,\n",
       "         'doe': 3,\n",
       "         'it': 2,\n",
       "         'mean': 1,\n",
       "         'to': 9,\n",
       "         'have': 2,\n",
       "         'mental': 14,\n",
       "         'illness': 9,\n",
       "         'is': 4,\n",
       "         'health': 8,\n",
       "         'describe': 1,\n",
       "         'who': 3,\n",
       "         'affect': 1,\n",
       "         'affected': 1,\n",
       "         'by': 1,\n",
       "         'mentall': 1,\n",
       "         'cause': 1,\n",
       "         'lead': 1,\n",
       "         'how': 7,\n",
       "         'one': 2,\n",
       "         'get': 1,\n",
       "         'mentally': 1,\n",
       "         'ill': 1,\n",
       "         'can': 3,\n",
       "         'people': 1,\n",
       "         'with': 1,\n",
       "         'recover': 3,\n",
       "         'possible': 1,\n",
       "         'from': 1,\n",
       "         'know': 1,\n",
       "         'someone': 1,\n",
       "         'appears': 1,\n",
       "         'such': 1,\n",
       "         'symptom': 2,\n",
       "         'are': 3,\n",
       "         'the': 4,\n",
       "         'step': 1,\n",
       "         'be': 1,\n",
       "         'followed': 1,\n",
       "         'incase': 1,\n",
       "         'of': 2,\n",
       "         'find': 4,\n",
       "         'professional': 6,\n",
       "         'for': 1,\n",
       "         'myself': 2,\n",
       "         'treatment': 3,\n",
       "         'option': 1,\n",
       "         'available': 1,\n",
       "         'become': 1,\n",
       "         'involved': 1,\n",
       "         'in': 2,\n",
       "         'should': 1,\n",
       "         'keep': 1,\n",
       "         'mind': 1,\n",
       "         'if': 1,\n",
       "         'begin': 1,\n",
       "         'difference': 1,\n",
       "         'between': 1,\n",
       "         'different': 1,\n",
       "         'type': 1,\n",
       "         'present': 1,\n",
       "         'right': 2})"
      ]
     },
     "execution_count": 12,
     "metadata": {},
     "output_type": "execute_result"
    }
   ],
   "source": [
    "vocab"
   ]
  },
  {
   "cell_type": "code",
   "execution_count": 13,
   "metadata": {
    "colab": {
     "base_uri": "https://localhost:8080/"
    },
    "id": "0_EER8ZWkpJU",
    "outputId": "0b272597-4ea5-44dd-f37a-2c7df0e8731a"
   },
   "outputs": [
    {
     "data": {
      "text/plain": [
       "62"
      ]
     },
     "execution_count": 13,
     "metadata": {},
     "output_type": "execute_result"
    }
   ],
   "source": [
    "vocab_size = len(vocab)\n",
    "vocab_size"
   ]
  },
  {
   "cell_type": "code",
   "execution_count": 14,
   "metadata": {
    "colab": {
     "base_uri": "https://localhost:8080/"
    },
    "id": "q2S6fc7iV5Fl",
    "outputId": "23324a36-3505-45b6-a5cc-2e48ac3da410"
   },
   "outputs": [
    {
     "data": {
      "text/plain": [
       "0                      Who does mental illness affect?\n",
       "1          What does it mean to have a mental illness?\n",
       "2    How to find mental health professional for myself\n",
       "3    What is the difference between mental health p...\n",
       "4              Can people with mental illness recover?\n",
       "5    How can I find a mental health professional ri...\n",
       "6    I know someone who appears to have such symptoms?\n",
       "7                What treatment options are available?\n",
       "8                 How to become involved in treatment?\n",
       "9                          What causes mental illness?\n",
       "Name: questions, dtype: object"
      ]
     },
     "execution_count": 14,
     "metadata": {},
     "output_type": "execute_result"
    }
   ],
   "source": [
    "df1.groupby(by='labels',as_index=False).first()['questions']"
   ]
  },
  {
   "cell_type": "code",
   "execution_count": 15,
   "metadata": {
    "colab": {
     "base_uri": "https://localhost:8080/"
    },
    "id": "flmw4NGyR_o1",
    "outputId": "63f1c0f6-4587-4093-ed72-f3213e5449e4"
   },
   "outputs": [
    {
     "data": {
      "text/plain": [
       "['Who does mental illness affect?',\n",
       " 'What does it mean to have a mental illness?',\n",
       " 'How to find mental health professional for myself',\n",
       " 'What is the difference between mental health professionals?',\n",
       " 'Can people with mental illness recover?',\n",
       " 'How can I find a mental health professional right myself?',\n",
       " 'I know someone who appears to have such symptoms?',\n",
       " 'What treatment options are available?',\n",
       " 'How to become involved in treatment?',\n",
       " 'What causes mental illness?']"
      ]
     },
     "execution_count": 15,
     "metadata": {},
     "output_type": "execute_result"
    }
   ],
   "source": [
    "# test_list contains the first element of questions\n",
    "\n",
    "test_list = list(df1.groupby(by='labels',as_index=False).first()['questions'])\n",
    "test_list"
   ]
  },
  {
   "cell_type": "code",
   "execution_count": 16,
   "metadata": {
    "colab": {
     "base_uri": "https://localhost:8080/"
    },
    "id": "MNtMUqJQUs9U",
    "outputId": "033574e0-71f2-411b-8bc6-6ae9557fd3c5"
   },
   "outputs": [
    {
     "data": {
      "text/plain": [
       "[3, 0, 12, 18, 8, 20, 10, 14, 16, 5]"
      ]
     },
     "execution_count": 16,
     "metadata": {},
     "output_type": "execute_result"
    }
   ],
   "source": [
    "# indices of the testing dataset\n",
    "\n",
    "test_index = []\n",
    "for i,_ in enumerate(test_list):\n",
    "    idx = df1[df1.questions == test_list[i]].index[0]\n",
    "    test_index.append(idx)\n",
    "test_index"
   ]
  },
  {
   "cell_type": "code",
   "execution_count": 17,
   "metadata": {
    "colab": {
     "base_uri": "https://localhost:8080/"
    },
    "id": "Reko6L-LUs6e",
    "outputId": "30ace821-537d-4573-980b-787511baabf6"
   },
   "outputs": [
    {
     "data": {
      "text/plain": [
       "[1, 2, 4, 6, 7, 9, 11, 13, 15, 17, 19, 21]"
      ]
     },
     "execution_count": 17,
     "metadata": {},
     "output_type": "execute_result"
    }
   ],
   "source": [
    "# train indices are the all indices minus the testing indices \n",
    "\n",
    "train_index = [i for i in df1.index if i not in test_index]\n",
    "train_index "
   ]
  },
  {
   "cell_type": "code",
   "execution_count": 18,
   "metadata": {
    "id": "u-ksA3SrUs3a"
   },
   "outputs": [],
   "source": [
    "def convert_seq(df,feature):\n",
    "#     text = ' '.join(list(vocab.keys()))\n",
    "    t = Tokenizer()\n",
    "    entries = [entry for entry in df[feature]]\n",
    "    print(entries)\n",
    "    print('----')\n",
    "    t.fit_on_texts(entries)\n",
    "    joblib.dump(t,'tokenizer_t.pkl')   # why a pkl file\n",
    "    vocab_size = len(t.word_index) +1 # +1 for oov \n",
    "    print(t.word_index)\n",
    "    entries = [entry for entry in df[feature]]\n",
    "    max_length = max([len(s.split()) for s in entries])\n",
    "    print('----')\n",
    "    print(\"max length of string is : \",max_length)\n",
    "    print('----')\n",
    "    encoded = t.texts_to_sequences(entries)\n",
    "    print(encoded)\n",
    "    padded = pad_sequences(encoded, maxlen=max_length, padding='post')\n",
    "    print('----')\n",
    "    print(padded)\n",
    "    return padded, vocab_size"
   ]
  },
  {
   "cell_type": "markdown",
   "metadata": {
    "id": "VjFFIlul53UZ"
   },
   "source": [
    "**fit_on_texts** updates internal vocabulary based on a list of texts. This method creates the vocabulary index based on word frequency. 0 is reserved for padding. So lower integer means more frequent word (often the first few are stop words because they appear a lot)."
   ]
  },
  {
   "cell_type": "markdown",
   "metadata": {
    "id": "z5a_RLov7R2s"
   },
   "source": [
    "Now that we have a vocabulary of words in the dataset, **each of the patterns can be encoded into numerical features for modeling, using any of the common text encoding techniques—count vectorizer**, term frequency-inverse document frequency (TF-IDF), hashing, etc.\n",
    "\n",
    "Using TensorFlow.Keras text_to_sequence, we can **encode each pattern corpus to vectorize a text corpus by turning each text into either a sequence of integers** (each integer being the index of a token in a dictionary) or into a vector where the coefficient for each token could be binary, based on word count which is based on TF-IDF. The resulting vectors will be post-padded with zeros so as to equal the length of the vectors."
   ]
  },
  {
   "cell_type": "code",
   "execution_count": 19,
   "metadata": {
    "colab": {
     "base_uri": "https://localhost:8080/"
    },
    "id": "GP07TFsDUs0e",
    "outputId": "7c2ace6d-31ad-464f-edb9-e0e606ad1f82"
   },
   "outputs": [
    {
     "name": "stdout",
     "output_type": "stream",
     "text": [
      "['What does it mean to have a mental illness?', 'What is mental health illness', 'Describe mental health illness', 'Who does mental illness affect?', 'Who is affected by mentall illness', 'What causes mental illness?', 'What leads to mental illness?', 'how does one get mentally ill?', 'Can people with mental illness recover?', 'Is it possible to recover from mental illness', 'I know someone who appears to have such symptoms?', 'What are the steps to be followed incase of symptoms', 'How to find mental health professional for myself', 'How to find mental health professional?', 'What treatment options are available?', 'How can one recover?', 'How to become involved in treatment?', 'What should I keep in mind if I begin treatment?', 'What is the difference between mental health professionals?', 'What are the different types of mental health professionals present?', 'How can I find a mental health professional right myself?', 'How to find the right mental health professional?']\n",
      "----\n",
      "{'mental': 1, 'what': 2, 'to': 3, 'illness': 4, 'health': 5, 'how': 6, 'is': 7, 'i': 8, 'the': 9, 'find': 10, 'professional': 11, 'does': 12, 'who': 13, 'can': 14, 'recover': 15, 'are': 16, 'treatment': 17, 'it': 18, 'have': 19, 'a': 20, 'one': 21, 'symptoms': 22, 'of': 23, 'myself': 24, 'in': 25, 'professionals': 26, 'right': 27, 'mean': 28, 'describe': 29, 'affect': 30, 'affected': 31, 'by': 32, 'mentall': 33, 'causes': 34, 'leads': 35, 'get': 36, 'mentally': 37, 'ill': 38, 'people': 39, 'with': 40, 'possible': 41, 'from': 42, 'know': 43, 'someone': 44, 'appears': 45, 'such': 46, 'steps': 47, 'be': 48, 'followed': 49, 'incase': 50, 'for': 51, 'options': 52, 'available': 53, 'become': 54, 'involved': 55, 'should': 56, 'keep': 57, 'mind': 58, 'if': 59, 'begin': 60, 'difference': 61, 'between': 62, 'different': 63, 'types': 64, 'present': 65}\n",
      "----\n",
      "max length of string is :  10\n",
      "----\n",
      "[[2, 12, 18, 28, 3, 19, 20, 1, 4], [2, 7, 1, 5, 4], [29, 1, 5, 4], [13, 12, 1, 4, 30], [13, 7, 31, 32, 33, 4], [2, 34, 1, 4], [2, 35, 3, 1, 4], [6, 12, 21, 36, 37, 38], [14, 39, 40, 1, 4, 15], [7, 18, 41, 3, 15, 42, 1, 4], [8, 43, 44, 13, 45, 3, 19, 46, 22], [2, 16, 9, 47, 3, 48, 49, 50, 23, 22], [6, 3, 10, 1, 5, 11, 51, 24], [6, 3, 10, 1, 5, 11], [2, 17, 52, 16, 53], [6, 14, 21, 15], [6, 3, 54, 55, 25, 17], [2, 56, 8, 57, 25, 58, 59, 8, 60, 17], [2, 7, 9, 61, 62, 1, 5, 26], [2, 16, 9, 63, 64, 23, 1, 5, 26, 65], [6, 14, 8, 10, 20, 1, 5, 11, 27, 24], [6, 3, 10, 9, 27, 1, 5, 11]]\n",
      "----\n",
      "[[ 2 12 18 28  3 19 20  1  4  0]\n",
      " [ 2  7  1  5  4  0  0  0  0  0]\n",
      " [29  1  5  4  0  0  0  0  0  0]\n",
      " [13 12  1  4 30  0  0  0  0  0]\n",
      " [13  7 31 32 33  4  0  0  0  0]\n",
      " [ 2 34  1  4  0  0  0  0  0  0]\n",
      " [ 2 35  3  1  4  0  0  0  0  0]\n",
      " [ 6 12 21 36 37 38  0  0  0  0]\n",
      " [14 39 40  1  4 15  0  0  0  0]\n",
      " [ 7 18 41  3 15 42  1  4  0  0]\n",
      " [ 8 43 44 13 45  3 19 46 22  0]\n",
      " [ 2 16  9 47  3 48 49 50 23 22]\n",
      " [ 6  3 10  1  5 11 51 24  0  0]\n",
      " [ 6  3 10  1  5 11  0  0  0  0]\n",
      " [ 2 17 52 16 53  0  0  0  0  0]\n",
      " [ 6 14 21 15  0  0  0  0  0  0]\n",
      " [ 6  3 54 55 25 17  0  0  0  0]\n",
      " [ 2 56  8 57 25 58 59  8 60 17]\n",
      " [ 2  7  9 61 62  1  5 26  0  0]\n",
      " [ 2 16  9 63 64 23  1  5 26 65]\n",
      " [ 6 14  8 10 20  1  5 11 27 24]\n",
      " [ 6  3 10  9 27  1  5 11  0  0]]\n"
     ]
    }
   ],
   "source": [
    "X,vocab_size = convert_seq(df1,'questions')"
   ]
  },
  {
   "cell_type": "code",
   "execution_count": 20,
   "metadata": {
    "id": "TjqSgtug5uSU"
   },
   "outputs": [],
   "source": [
    "with open('tokenizer_t.pkl', 'rb') as f:\n",
    "    data = pickle.load(f)"
   ]
  },
  {
   "cell_type": "code",
   "execution_count": 21,
   "metadata": {
    "colab": {
     "base_uri": "https://localhost:8080/"
    },
    "id": "Ww0VWLGV6WDo",
    "outputId": "590e3660-78a5-4e56-fac3-3585f7a55cae"
   },
   "outputs": [
    {
     "data": {
      "text/plain": [
       "{1: 'mental',\n",
       " 2: 'what',\n",
       " 3: 'to',\n",
       " 4: 'illness',\n",
       " 5: 'health',\n",
       " 6: 'how',\n",
       " 7: 'is',\n",
       " 8: 'i',\n",
       " 9: 'the',\n",
       " 10: 'find',\n",
       " 11: 'professional',\n",
       " 12: 'does',\n",
       " 13: 'who',\n",
       " 14: 'can',\n",
       " 15: 'recover',\n",
       " 16: 'are',\n",
       " 17: 'treatment',\n",
       " 18: 'it',\n",
       " 19: 'have',\n",
       " 20: 'a',\n",
       " 21: 'one',\n",
       " 22: 'symptoms',\n",
       " 23: 'of',\n",
       " 24: 'myself',\n",
       " 25: 'in',\n",
       " 26: 'professionals',\n",
       " 27: 'right',\n",
       " 28: 'mean',\n",
       " 29: 'describe',\n",
       " 30: 'affect',\n",
       " 31: 'affected',\n",
       " 32: 'by',\n",
       " 33: 'mentall',\n",
       " 34: 'causes',\n",
       " 35: 'leads',\n",
       " 36: 'get',\n",
       " 37: 'mentally',\n",
       " 38: 'ill',\n",
       " 39: 'people',\n",
       " 40: 'with',\n",
       " 41: 'possible',\n",
       " 42: 'from',\n",
       " 43: 'know',\n",
       " 44: 'someone',\n",
       " 45: 'appears',\n",
       " 46: 'such',\n",
       " 47: 'steps',\n",
       " 48: 'be',\n",
       " 49: 'followed',\n",
       " 50: 'incase',\n",
       " 51: 'for',\n",
       " 52: 'options',\n",
       " 53: 'available',\n",
       " 54: 'become',\n",
       " 55: 'involved',\n",
       " 56: 'should',\n",
       " 57: 'keep',\n",
       " 58: 'mind',\n",
       " 59: 'if',\n",
       " 60: 'begin',\n",
       " 61: 'difference',\n",
       " 62: 'between',\n",
       " 63: 'different',\n",
       " 64: 'types',\n",
       " 65: 'present'}"
      ]
     },
     "execution_count": 21,
     "metadata": {},
     "output_type": "execute_result"
    }
   ],
   "source": [
    "data.index_word"
   ]
  },
  {
   "cell_type": "code",
   "execution_count": 22,
   "metadata": {
    "colab": {
     "base_uri": "https://localhost:8080/"
    },
    "id": "4TKUtsd851W4",
    "outputId": "a5e422af-11a5-4bdb-ddfc-f0784fa84e4f"
   },
   "outputs": [
    {
     "data": {
      "text/plain": [
       "OrderedDict([('what', 9),\n",
       "             ('does', 3),\n",
       "             ('it', 2),\n",
       "             ('mean', 1),\n",
       "             ('to', 9),\n",
       "             ('have', 2),\n",
       "             ('a', 2),\n",
       "             ('mental', 14),\n",
       "             ('illness', 9),\n",
       "             ('is', 4),\n",
       "             ('health', 8),\n",
       "             ('describe', 1),\n",
       "             ('who', 3),\n",
       "             ('affect', 1),\n",
       "             ('affected', 1),\n",
       "             ('by', 1),\n",
       "             ('mentall', 1),\n",
       "             ('causes', 1),\n",
       "             ('leads', 1),\n",
       "             ('how', 7),\n",
       "             ('one', 2),\n",
       "             ('get', 1),\n",
       "             ('mentally', 1),\n",
       "             ('ill', 1),\n",
       "             ('can', 3),\n",
       "             ('people', 1),\n",
       "             ('with', 1),\n",
       "             ('recover', 3),\n",
       "             ('possible', 1),\n",
       "             ('from', 1),\n",
       "             ('i', 4),\n",
       "             ('know', 1),\n",
       "             ('someone', 1),\n",
       "             ('appears', 1),\n",
       "             ('such', 1),\n",
       "             ('symptoms', 2),\n",
       "             ('are', 3),\n",
       "             ('the', 4),\n",
       "             ('steps', 1),\n",
       "             ('be', 1),\n",
       "             ('followed', 1),\n",
       "             ('incase', 1),\n",
       "             ('of', 2),\n",
       "             ('find', 4),\n",
       "             ('professional', 4),\n",
       "             ('for', 1),\n",
       "             ('myself', 2),\n",
       "             ('treatment', 3),\n",
       "             ('options', 1),\n",
       "             ('available', 1),\n",
       "             ('become', 1),\n",
       "             ('involved', 1),\n",
       "             ('in', 2),\n",
       "             ('should', 1),\n",
       "             ('keep', 1),\n",
       "             ('mind', 1),\n",
       "             ('if', 1),\n",
       "             ('begin', 1),\n",
       "             ('difference', 1),\n",
       "             ('between', 1),\n",
       "             ('professionals', 2),\n",
       "             ('different', 1),\n",
       "             ('types', 1),\n",
       "             ('present', 1),\n",
       "             ('right', 2)])"
      ]
     },
     "execution_count": 22,
     "metadata": {},
     "output_type": "execute_result"
    }
   ],
   "source": [
    "data.word_counts"
   ]
  },
  {
   "cell_type": "code",
   "execution_count": 23,
   "metadata": {
    "colab": {
     "base_uri": "https://localhost:8080/"
    },
    "id": "gExivERw6WdD",
    "outputId": "9f90dcea-abdc-4aff-cd32-e27616f2ddbe"
   },
   "outputs": [
    {
     "data": {
      "text/plain": [
       "array([[ 2, 12, 18, 28,  3, 19, 20,  1,  4,  0],\n",
       "       [ 2,  7,  1,  5,  4,  0,  0,  0,  0,  0],\n",
       "       [29,  1,  5,  4,  0,  0,  0,  0,  0,  0],\n",
       "       [13, 12,  1,  4, 30,  0,  0,  0,  0,  0],\n",
       "       [13,  7, 31, 32, 33,  4,  0,  0,  0,  0],\n",
       "       [ 2, 34,  1,  4,  0,  0,  0,  0,  0,  0],\n",
       "       [ 2, 35,  3,  1,  4,  0,  0,  0,  0,  0],\n",
       "       [ 6, 12, 21, 36, 37, 38,  0,  0,  0,  0],\n",
       "       [14, 39, 40,  1,  4, 15,  0,  0,  0,  0],\n",
       "       [ 7, 18, 41,  3, 15, 42,  1,  4,  0,  0],\n",
       "       [ 8, 43, 44, 13, 45,  3, 19, 46, 22,  0],\n",
       "       [ 2, 16,  9, 47,  3, 48, 49, 50, 23, 22],\n",
       "       [ 6,  3, 10,  1,  5, 11, 51, 24,  0,  0],\n",
       "       [ 6,  3, 10,  1,  5, 11,  0,  0,  0,  0],\n",
       "       [ 2, 17, 52, 16, 53,  0,  0,  0,  0,  0],\n",
       "       [ 6, 14, 21, 15,  0,  0,  0,  0,  0,  0],\n",
       "       [ 6,  3, 54, 55, 25, 17,  0,  0,  0,  0],\n",
       "       [ 2, 56,  8, 57, 25, 58, 59,  8, 60, 17],\n",
       "       [ 2,  7,  9, 61, 62,  1,  5, 26,  0,  0],\n",
       "       [ 2, 16,  9, 63, 64, 23,  1,  5, 26, 65],\n",
       "       [ 6, 14,  8, 10, 20,  1,  5, 11, 27, 24],\n",
       "       [ 6,  3, 10,  9, 27,  1,  5, 11,  0,  0]])"
      ]
     },
     "execution_count": 23,
     "metadata": {},
     "output_type": "execute_result"
    }
   ],
   "source": [
    "X"
   ]
  },
  {
   "cell_type": "code",
   "execution_count": 24,
   "metadata": {
    "colab": {
     "base_uri": "https://localhost:8080/"
    },
    "id": "bimUOhFb6Y_9",
    "outputId": "91159b95-22dd-4f6f-a8bd-17d10ebf9c0f"
   },
   "outputs": [
    {
     "data": {
      "text/plain": [
       "66"
      ]
     },
     "execution_count": 24,
     "metadata": {},
     "output_type": "execute_result"
    }
   ],
   "source": [
    "vocab_size"
   ]
  },
  {
   "cell_type": "code",
   "execution_count": 25,
   "metadata": {
    "id": "4cKWHDabXLg_"
   },
   "outputs": [],
   "source": [
    "df_encoded = pd.DataFrame(X)"
   ]
  },
  {
   "cell_type": "code",
   "execution_count": 26,
   "metadata": {
    "colab": {
     "base_uri": "https://localhost:8080/",
     "height": 726
    },
    "id": "wfjo-4088OnX",
    "outputId": "d6f6a60e-7f8e-40f5-ca50-69062a34d4fa"
   },
   "outputs": [
    {
     "data": {
      "text/html": [
       "<div>\n",
       "<style scoped>\n",
       "    .dataframe tbody tr th:only-of-type {\n",
       "        vertical-align: middle;\n",
       "    }\n",
       "\n",
       "    .dataframe tbody tr th {\n",
       "        vertical-align: top;\n",
       "    }\n",
       "\n",
       "    .dataframe thead th {\n",
       "        text-align: right;\n",
       "    }\n",
       "</style>\n",
       "<table border=\"1\" class=\"dataframe\">\n",
       "  <thead>\n",
       "    <tr style=\"text-align: right;\">\n",
       "      <th></th>\n",
       "      <th>0</th>\n",
       "      <th>1</th>\n",
       "      <th>2</th>\n",
       "      <th>3</th>\n",
       "      <th>4</th>\n",
       "      <th>5</th>\n",
       "      <th>6</th>\n",
       "      <th>7</th>\n",
       "      <th>8</th>\n",
       "      <th>9</th>\n",
       "    </tr>\n",
       "  </thead>\n",
       "  <tbody>\n",
       "    <tr>\n",
       "      <th>0</th>\n",
       "      <td>2</td>\n",
       "      <td>12</td>\n",
       "      <td>18</td>\n",
       "      <td>28</td>\n",
       "      <td>3</td>\n",
       "      <td>19</td>\n",
       "      <td>20</td>\n",
       "      <td>1</td>\n",
       "      <td>4</td>\n",
       "      <td>0</td>\n",
       "    </tr>\n",
       "    <tr>\n",
       "      <th>1</th>\n",
       "      <td>2</td>\n",
       "      <td>7</td>\n",
       "      <td>1</td>\n",
       "      <td>5</td>\n",
       "      <td>4</td>\n",
       "      <td>0</td>\n",
       "      <td>0</td>\n",
       "      <td>0</td>\n",
       "      <td>0</td>\n",
       "      <td>0</td>\n",
       "    </tr>\n",
       "    <tr>\n",
       "      <th>2</th>\n",
       "      <td>29</td>\n",
       "      <td>1</td>\n",
       "      <td>5</td>\n",
       "      <td>4</td>\n",
       "      <td>0</td>\n",
       "      <td>0</td>\n",
       "      <td>0</td>\n",
       "      <td>0</td>\n",
       "      <td>0</td>\n",
       "      <td>0</td>\n",
       "    </tr>\n",
       "    <tr>\n",
       "      <th>3</th>\n",
       "      <td>13</td>\n",
       "      <td>12</td>\n",
       "      <td>1</td>\n",
       "      <td>4</td>\n",
       "      <td>30</td>\n",
       "      <td>0</td>\n",
       "      <td>0</td>\n",
       "      <td>0</td>\n",
       "      <td>0</td>\n",
       "      <td>0</td>\n",
       "    </tr>\n",
       "    <tr>\n",
       "      <th>4</th>\n",
       "      <td>13</td>\n",
       "      <td>7</td>\n",
       "      <td>31</td>\n",
       "      <td>32</td>\n",
       "      <td>33</td>\n",
       "      <td>4</td>\n",
       "      <td>0</td>\n",
       "      <td>0</td>\n",
       "      <td>0</td>\n",
       "      <td>0</td>\n",
       "    </tr>\n",
       "    <tr>\n",
       "      <th>5</th>\n",
       "      <td>2</td>\n",
       "      <td>34</td>\n",
       "      <td>1</td>\n",
       "      <td>4</td>\n",
       "      <td>0</td>\n",
       "      <td>0</td>\n",
       "      <td>0</td>\n",
       "      <td>0</td>\n",
       "      <td>0</td>\n",
       "      <td>0</td>\n",
       "    </tr>\n",
       "    <tr>\n",
       "      <th>6</th>\n",
       "      <td>2</td>\n",
       "      <td>35</td>\n",
       "      <td>3</td>\n",
       "      <td>1</td>\n",
       "      <td>4</td>\n",
       "      <td>0</td>\n",
       "      <td>0</td>\n",
       "      <td>0</td>\n",
       "      <td>0</td>\n",
       "      <td>0</td>\n",
       "    </tr>\n",
       "    <tr>\n",
       "      <th>7</th>\n",
       "      <td>6</td>\n",
       "      <td>12</td>\n",
       "      <td>21</td>\n",
       "      <td>36</td>\n",
       "      <td>37</td>\n",
       "      <td>38</td>\n",
       "      <td>0</td>\n",
       "      <td>0</td>\n",
       "      <td>0</td>\n",
       "      <td>0</td>\n",
       "    </tr>\n",
       "    <tr>\n",
       "      <th>8</th>\n",
       "      <td>14</td>\n",
       "      <td>39</td>\n",
       "      <td>40</td>\n",
       "      <td>1</td>\n",
       "      <td>4</td>\n",
       "      <td>15</td>\n",
       "      <td>0</td>\n",
       "      <td>0</td>\n",
       "      <td>0</td>\n",
       "      <td>0</td>\n",
       "    </tr>\n",
       "    <tr>\n",
       "      <th>9</th>\n",
       "      <td>7</td>\n",
       "      <td>18</td>\n",
       "      <td>41</td>\n",
       "      <td>3</td>\n",
       "      <td>15</td>\n",
       "      <td>42</td>\n",
       "      <td>1</td>\n",
       "      <td>4</td>\n",
       "      <td>0</td>\n",
       "      <td>0</td>\n",
       "    </tr>\n",
       "    <tr>\n",
       "      <th>10</th>\n",
       "      <td>8</td>\n",
       "      <td>43</td>\n",
       "      <td>44</td>\n",
       "      <td>13</td>\n",
       "      <td>45</td>\n",
       "      <td>3</td>\n",
       "      <td>19</td>\n",
       "      <td>46</td>\n",
       "      <td>22</td>\n",
       "      <td>0</td>\n",
       "    </tr>\n",
       "    <tr>\n",
       "      <th>11</th>\n",
       "      <td>2</td>\n",
       "      <td>16</td>\n",
       "      <td>9</td>\n",
       "      <td>47</td>\n",
       "      <td>3</td>\n",
       "      <td>48</td>\n",
       "      <td>49</td>\n",
       "      <td>50</td>\n",
       "      <td>23</td>\n",
       "      <td>22</td>\n",
       "    </tr>\n",
       "    <tr>\n",
       "      <th>12</th>\n",
       "      <td>6</td>\n",
       "      <td>3</td>\n",
       "      <td>10</td>\n",
       "      <td>1</td>\n",
       "      <td>5</td>\n",
       "      <td>11</td>\n",
       "      <td>51</td>\n",
       "      <td>24</td>\n",
       "      <td>0</td>\n",
       "      <td>0</td>\n",
       "    </tr>\n",
       "    <tr>\n",
       "      <th>13</th>\n",
       "      <td>6</td>\n",
       "      <td>3</td>\n",
       "      <td>10</td>\n",
       "      <td>1</td>\n",
       "      <td>5</td>\n",
       "      <td>11</td>\n",
       "      <td>0</td>\n",
       "      <td>0</td>\n",
       "      <td>0</td>\n",
       "      <td>0</td>\n",
       "    </tr>\n",
       "    <tr>\n",
       "      <th>14</th>\n",
       "      <td>2</td>\n",
       "      <td>17</td>\n",
       "      <td>52</td>\n",
       "      <td>16</td>\n",
       "      <td>53</td>\n",
       "      <td>0</td>\n",
       "      <td>0</td>\n",
       "      <td>0</td>\n",
       "      <td>0</td>\n",
       "      <td>0</td>\n",
       "    </tr>\n",
       "    <tr>\n",
       "      <th>15</th>\n",
       "      <td>6</td>\n",
       "      <td>14</td>\n",
       "      <td>21</td>\n",
       "      <td>15</td>\n",
       "      <td>0</td>\n",
       "      <td>0</td>\n",
       "      <td>0</td>\n",
       "      <td>0</td>\n",
       "      <td>0</td>\n",
       "      <td>0</td>\n",
       "    </tr>\n",
       "    <tr>\n",
       "      <th>16</th>\n",
       "      <td>6</td>\n",
       "      <td>3</td>\n",
       "      <td>54</td>\n",
       "      <td>55</td>\n",
       "      <td>25</td>\n",
       "      <td>17</td>\n",
       "      <td>0</td>\n",
       "      <td>0</td>\n",
       "      <td>0</td>\n",
       "      <td>0</td>\n",
       "    </tr>\n",
       "    <tr>\n",
       "      <th>17</th>\n",
       "      <td>2</td>\n",
       "      <td>56</td>\n",
       "      <td>8</td>\n",
       "      <td>57</td>\n",
       "      <td>25</td>\n",
       "      <td>58</td>\n",
       "      <td>59</td>\n",
       "      <td>8</td>\n",
       "      <td>60</td>\n",
       "      <td>17</td>\n",
       "    </tr>\n",
       "    <tr>\n",
       "      <th>18</th>\n",
       "      <td>2</td>\n",
       "      <td>7</td>\n",
       "      <td>9</td>\n",
       "      <td>61</td>\n",
       "      <td>62</td>\n",
       "      <td>1</td>\n",
       "      <td>5</td>\n",
       "      <td>26</td>\n",
       "      <td>0</td>\n",
       "      <td>0</td>\n",
       "    </tr>\n",
       "    <tr>\n",
       "      <th>19</th>\n",
       "      <td>2</td>\n",
       "      <td>16</td>\n",
       "      <td>9</td>\n",
       "      <td>63</td>\n",
       "      <td>64</td>\n",
       "      <td>23</td>\n",
       "      <td>1</td>\n",
       "      <td>5</td>\n",
       "      <td>26</td>\n",
       "      <td>65</td>\n",
       "    </tr>\n",
       "    <tr>\n",
       "      <th>20</th>\n",
       "      <td>6</td>\n",
       "      <td>14</td>\n",
       "      <td>8</td>\n",
       "      <td>10</td>\n",
       "      <td>20</td>\n",
       "      <td>1</td>\n",
       "      <td>5</td>\n",
       "      <td>11</td>\n",
       "      <td>27</td>\n",
       "      <td>24</td>\n",
       "    </tr>\n",
       "    <tr>\n",
       "      <th>21</th>\n",
       "      <td>6</td>\n",
       "      <td>3</td>\n",
       "      <td>10</td>\n",
       "      <td>9</td>\n",
       "      <td>27</td>\n",
       "      <td>1</td>\n",
       "      <td>5</td>\n",
       "      <td>11</td>\n",
       "      <td>0</td>\n",
       "      <td>0</td>\n",
       "    </tr>\n",
       "  </tbody>\n",
       "</table>\n",
       "</div>"
      ],
      "text/plain": [
       "     0   1   2   3   4   5   6   7   8   9\n",
       "0    2  12  18  28   3  19  20   1   4   0\n",
       "1    2   7   1   5   4   0   0   0   0   0\n",
       "2   29   1   5   4   0   0   0   0   0   0\n",
       "3   13  12   1   4  30   0   0   0   0   0\n",
       "4   13   7  31  32  33   4   0   0   0   0\n",
       "5    2  34   1   4   0   0   0   0   0   0\n",
       "6    2  35   3   1   4   0   0   0   0   0\n",
       "7    6  12  21  36  37  38   0   0   0   0\n",
       "8   14  39  40   1   4  15   0   0   0   0\n",
       "9    7  18  41   3  15  42   1   4   0   0\n",
       "10   8  43  44  13  45   3  19  46  22   0\n",
       "11   2  16   9  47   3  48  49  50  23  22\n",
       "12   6   3  10   1   5  11  51  24   0   0\n",
       "13   6   3  10   1   5  11   0   0   0   0\n",
       "14   2  17  52  16  53   0   0   0   0   0\n",
       "15   6  14  21  15   0   0   0   0   0   0\n",
       "16   6   3  54  55  25  17   0   0   0   0\n",
       "17   2  56   8  57  25  58  59   8  60  17\n",
       "18   2   7   9  61  62   1   5  26   0   0\n",
       "19   2  16   9  63  64  23   1   5  26  65\n",
       "20   6  14   8  10  20   1   5  11  27  24\n",
       "21   6   3  10   9  27   1   5  11   0   0"
      ]
     },
     "execution_count": 26,
     "metadata": {},
     "output_type": "execute_result"
    }
   ],
   "source": [
    "df_encoded"
   ]
  },
  {
   "cell_type": "code",
   "execution_count": 27,
   "metadata": {
    "colab": {
     "base_uri": "https://localhost:8080/",
     "height": 357
    },
    "id": "Dje2hCaJ8IPc",
    "outputId": "3a3d5190-13bc-4118-f953-07d0ed5dd3de"
   },
   "outputs": [
    {
     "data": {
      "text/html": [
       "<div>\n",
       "<style scoped>\n",
       "    .dataframe tbody tr th:only-of-type {\n",
       "        vertical-align: middle;\n",
       "    }\n",
       "\n",
       "    .dataframe tbody tr th {\n",
       "        vertical-align: top;\n",
       "    }\n",
       "\n",
       "    .dataframe thead th {\n",
       "        text-align: right;\n",
       "    }\n",
       "</style>\n",
       "<table border=\"1\" class=\"dataframe\">\n",
       "  <thead>\n",
       "    <tr style=\"text-align: right;\">\n",
       "      <th></th>\n",
       "      <th>questions</th>\n",
       "      <th>labels</th>\n",
       "    </tr>\n",
       "  </thead>\n",
       "  <tbody>\n",
       "    <tr>\n",
       "      <th>0</th>\n",
       "      <td>What does it mean to have a mental illness?</td>\n",
       "      <td>definition</td>\n",
       "    </tr>\n",
       "    <tr>\n",
       "      <th>1</th>\n",
       "      <td>What is mental health illness</td>\n",
       "      <td>definition</td>\n",
       "    </tr>\n",
       "    <tr>\n",
       "      <th>2</th>\n",
       "      <td>Describe mental health illness</td>\n",
       "      <td>definition</td>\n",
       "    </tr>\n",
       "    <tr>\n",
       "      <th>3</th>\n",
       "      <td>Who does mental illness affect?</td>\n",
       "      <td>affects_whom</td>\n",
       "    </tr>\n",
       "    <tr>\n",
       "      <th>4</th>\n",
       "      <td>Who is affected by mentall illness</td>\n",
       "      <td>affects_whom</td>\n",
       "    </tr>\n",
       "    <tr>\n",
       "      <th>5</th>\n",
       "      <td>What causes mental illness?</td>\n",
       "      <td>what_causes</td>\n",
       "    </tr>\n",
       "    <tr>\n",
       "      <th>6</th>\n",
       "      <td>What leads to mental illness?</td>\n",
       "      <td>what_causes</td>\n",
       "    </tr>\n",
       "    <tr>\n",
       "      <th>7</th>\n",
       "      <td>how does one get mentally ill?</td>\n",
       "      <td>what_causes</td>\n",
       "    </tr>\n",
       "    <tr>\n",
       "      <th>8</th>\n",
       "      <td>Can people with mental illness recover?</td>\n",
       "      <td>recover</td>\n",
       "    </tr>\n",
       "    <tr>\n",
       "      <th>9</th>\n",
       "      <td>Is it possible to recover from mental illness</td>\n",
       "      <td>recover</td>\n",
       "    </tr>\n",
       "  </tbody>\n",
       "</table>\n",
       "</div>"
      ],
      "text/plain": [
       "                                       questions        labels\n",
       "0    What does it mean to have a mental illness?    definition\n",
       "1                  What is mental health illness    definition\n",
       "2                 Describe mental health illness    definition\n",
       "3                Who does mental illness affect?  affects_whom\n",
       "4             Who is affected by mentall illness  affects_whom\n",
       "5                    What causes mental illness?   what_causes\n",
       "6                  What leads to mental illness?   what_causes\n",
       "7                 how does one get mentally ill?   what_causes\n",
       "8        Can people with mental illness recover?       recover\n",
       "9  Is it possible to recover from mental illness       recover"
      ]
     },
     "execution_count": 27,
     "metadata": {},
     "output_type": "execute_result"
    }
   ],
   "source": [
    "df1.head(10)"
   ]
  },
  {
   "cell_type": "code",
   "execution_count": 28,
   "metadata": {
    "colab": {
     "base_uri": "https://localhost:8080/",
     "height": 357
    },
    "id": "3Uu_JiN5XLdt",
    "outputId": "d83accbd-8cfe-4b46-9cc4-6b39a218172f"
   },
   "outputs": [
    {
     "data": {
      "text/html": [
       "<div>\n",
       "<style scoped>\n",
       "    .dataframe tbody tr th:only-of-type {\n",
       "        vertical-align: middle;\n",
       "    }\n",
       "\n",
       "    .dataframe tbody tr th {\n",
       "        vertical-align: top;\n",
       "    }\n",
       "\n",
       "    .dataframe thead th {\n",
       "        text-align: right;\n",
       "    }\n",
       "</style>\n",
       "<table border=\"1\" class=\"dataframe\">\n",
       "  <thead>\n",
       "    <tr style=\"text-align: right;\">\n",
       "      <th></th>\n",
       "      <th>0</th>\n",
       "      <th>1</th>\n",
       "      <th>2</th>\n",
       "      <th>3</th>\n",
       "      <th>4</th>\n",
       "      <th>5</th>\n",
       "      <th>6</th>\n",
       "      <th>7</th>\n",
       "      <th>8</th>\n",
       "      <th>9</th>\n",
       "      <th>labels</th>\n",
       "    </tr>\n",
       "  </thead>\n",
       "  <tbody>\n",
       "    <tr>\n",
       "      <th>0</th>\n",
       "      <td>2</td>\n",
       "      <td>12</td>\n",
       "      <td>18</td>\n",
       "      <td>28</td>\n",
       "      <td>3</td>\n",
       "      <td>19</td>\n",
       "      <td>20</td>\n",
       "      <td>1</td>\n",
       "      <td>4</td>\n",
       "      <td>0</td>\n",
       "      <td>definition</td>\n",
       "    </tr>\n",
       "    <tr>\n",
       "      <th>1</th>\n",
       "      <td>2</td>\n",
       "      <td>7</td>\n",
       "      <td>1</td>\n",
       "      <td>5</td>\n",
       "      <td>4</td>\n",
       "      <td>0</td>\n",
       "      <td>0</td>\n",
       "      <td>0</td>\n",
       "      <td>0</td>\n",
       "      <td>0</td>\n",
       "      <td>definition</td>\n",
       "    </tr>\n",
       "    <tr>\n",
       "      <th>2</th>\n",
       "      <td>29</td>\n",
       "      <td>1</td>\n",
       "      <td>5</td>\n",
       "      <td>4</td>\n",
       "      <td>0</td>\n",
       "      <td>0</td>\n",
       "      <td>0</td>\n",
       "      <td>0</td>\n",
       "      <td>0</td>\n",
       "      <td>0</td>\n",
       "      <td>definition</td>\n",
       "    </tr>\n",
       "    <tr>\n",
       "      <th>3</th>\n",
       "      <td>13</td>\n",
       "      <td>12</td>\n",
       "      <td>1</td>\n",
       "      <td>4</td>\n",
       "      <td>30</td>\n",
       "      <td>0</td>\n",
       "      <td>0</td>\n",
       "      <td>0</td>\n",
       "      <td>0</td>\n",
       "      <td>0</td>\n",
       "      <td>affects_whom</td>\n",
       "    </tr>\n",
       "    <tr>\n",
       "      <th>4</th>\n",
       "      <td>13</td>\n",
       "      <td>7</td>\n",
       "      <td>31</td>\n",
       "      <td>32</td>\n",
       "      <td>33</td>\n",
       "      <td>4</td>\n",
       "      <td>0</td>\n",
       "      <td>0</td>\n",
       "      <td>0</td>\n",
       "      <td>0</td>\n",
       "      <td>affects_whom</td>\n",
       "    </tr>\n",
       "    <tr>\n",
       "      <th>5</th>\n",
       "      <td>2</td>\n",
       "      <td>34</td>\n",
       "      <td>1</td>\n",
       "      <td>4</td>\n",
       "      <td>0</td>\n",
       "      <td>0</td>\n",
       "      <td>0</td>\n",
       "      <td>0</td>\n",
       "      <td>0</td>\n",
       "      <td>0</td>\n",
       "      <td>what_causes</td>\n",
       "    </tr>\n",
       "    <tr>\n",
       "      <th>6</th>\n",
       "      <td>2</td>\n",
       "      <td>35</td>\n",
       "      <td>3</td>\n",
       "      <td>1</td>\n",
       "      <td>4</td>\n",
       "      <td>0</td>\n",
       "      <td>0</td>\n",
       "      <td>0</td>\n",
       "      <td>0</td>\n",
       "      <td>0</td>\n",
       "      <td>what_causes</td>\n",
       "    </tr>\n",
       "    <tr>\n",
       "      <th>7</th>\n",
       "      <td>6</td>\n",
       "      <td>12</td>\n",
       "      <td>21</td>\n",
       "      <td>36</td>\n",
       "      <td>37</td>\n",
       "      <td>38</td>\n",
       "      <td>0</td>\n",
       "      <td>0</td>\n",
       "      <td>0</td>\n",
       "      <td>0</td>\n",
       "      <td>what_causes</td>\n",
       "    </tr>\n",
       "    <tr>\n",
       "      <th>8</th>\n",
       "      <td>14</td>\n",
       "      <td>39</td>\n",
       "      <td>40</td>\n",
       "      <td>1</td>\n",
       "      <td>4</td>\n",
       "      <td>15</td>\n",
       "      <td>0</td>\n",
       "      <td>0</td>\n",
       "      <td>0</td>\n",
       "      <td>0</td>\n",
       "      <td>recover</td>\n",
       "    </tr>\n",
       "    <tr>\n",
       "      <th>9</th>\n",
       "      <td>7</td>\n",
       "      <td>18</td>\n",
       "      <td>41</td>\n",
       "      <td>3</td>\n",
       "      <td>15</td>\n",
       "      <td>42</td>\n",
       "      <td>1</td>\n",
       "      <td>4</td>\n",
       "      <td>0</td>\n",
       "      <td>0</td>\n",
       "      <td>recover</td>\n",
       "    </tr>\n",
       "  </tbody>\n",
       "</table>\n",
       "</div>"
      ],
      "text/plain": [
       "    0   1   2   3   4   5   6  7  8  9        labels\n",
       "0   2  12  18  28   3  19  20  1  4  0    definition\n",
       "1   2   7   1   5   4   0   0  0  0  0    definition\n",
       "2  29   1   5   4   0   0   0  0  0  0    definition\n",
       "3  13  12   1   4  30   0   0  0  0  0  affects_whom\n",
       "4  13   7  31  32  33   4   0  0  0  0  affects_whom\n",
       "5   2  34   1   4   0   0   0  0  0  0   what_causes\n",
       "6   2  35   3   1   4   0   0  0  0  0   what_causes\n",
       "7   6  12  21  36  37  38   0  0  0  0   what_causes\n",
       "8  14  39  40   1   4  15   0  0  0  0       recover\n",
       "9   7  18  41   3  15  42   1  4  0  0       recover"
      ]
     },
     "execution_count": 28,
     "metadata": {},
     "output_type": "execute_result"
    }
   ],
   "source": [
    "df_encoded['labels'] = df1.labels\n",
    "df_encoded.head(10)"
   ]
  },
  {
   "cell_type": "code",
   "execution_count": 29,
   "metadata": {
    "colab": {
     "base_uri": "https://localhost:8080/",
     "height": 726
    },
    "id": "heGzmZM3XS4J",
    "outputId": "ed09e08b-e76f-48c2-da63-99e09df7e653"
   },
   "outputs": [
    {
     "data": {
      "text/html": [
       "<div>\n",
       "<style scoped>\n",
       "    .dataframe tbody tr th:only-of-type {\n",
       "        vertical-align: middle;\n",
       "    }\n",
       "\n",
       "    .dataframe tbody tr th {\n",
       "        vertical-align: top;\n",
       "    }\n",
       "\n",
       "    .dataframe thead th {\n",
       "        text-align: right;\n",
       "    }\n",
       "</style>\n",
       "<table border=\"1\" class=\"dataframe\">\n",
       "  <thead>\n",
       "    <tr style=\"text-align: right;\">\n",
       "      <th></th>\n",
       "      <th>0</th>\n",
       "      <th>1</th>\n",
       "      <th>2</th>\n",
       "      <th>3</th>\n",
       "      <th>4</th>\n",
       "      <th>5</th>\n",
       "      <th>6</th>\n",
       "      <th>7</th>\n",
       "      <th>8</th>\n",
       "      <th>9</th>\n",
       "      <th>labels</th>\n",
       "    </tr>\n",
       "  </thead>\n",
       "  <tbody>\n",
       "    <tr>\n",
       "      <th>0</th>\n",
       "      <td>2</td>\n",
       "      <td>12</td>\n",
       "      <td>18</td>\n",
       "      <td>28</td>\n",
       "      <td>3</td>\n",
       "      <td>19</td>\n",
       "      <td>20</td>\n",
       "      <td>1</td>\n",
       "      <td>4</td>\n",
       "      <td>0</td>\n",
       "      <td>definition</td>\n",
       "    </tr>\n",
       "    <tr>\n",
       "      <th>1</th>\n",
       "      <td>2</td>\n",
       "      <td>7</td>\n",
       "      <td>1</td>\n",
       "      <td>5</td>\n",
       "      <td>4</td>\n",
       "      <td>0</td>\n",
       "      <td>0</td>\n",
       "      <td>0</td>\n",
       "      <td>0</td>\n",
       "      <td>0</td>\n",
       "      <td>definition</td>\n",
       "    </tr>\n",
       "    <tr>\n",
       "      <th>2</th>\n",
       "      <td>29</td>\n",
       "      <td>1</td>\n",
       "      <td>5</td>\n",
       "      <td>4</td>\n",
       "      <td>0</td>\n",
       "      <td>0</td>\n",
       "      <td>0</td>\n",
       "      <td>0</td>\n",
       "      <td>0</td>\n",
       "      <td>0</td>\n",
       "      <td>definition</td>\n",
       "    </tr>\n",
       "    <tr>\n",
       "      <th>3</th>\n",
       "      <td>13</td>\n",
       "      <td>12</td>\n",
       "      <td>1</td>\n",
       "      <td>4</td>\n",
       "      <td>30</td>\n",
       "      <td>0</td>\n",
       "      <td>0</td>\n",
       "      <td>0</td>\n",
       "      <td>0</td>\n",
       "      <td>0</td>\n",
       "      <td>affects_whom</td>\n",
       "    </tr>\n",
       "    <tr>\n",
       "      <th>4</th>\n",
       "      <td>13</td>\n",
       "      <td>7</td>\n",
       "      <td>31</td>\n",
       "      <td>32</td>\n",
       "      <td>33</td>\n",
       "      <td>4</td>\n",
       "      <td>0</td>\n",
       "      <td>0</td>\n",
       "      <td>0</td>\n",
       "      <td>0</td>\n",
       "      <td>affects_whom</td>\n",
       "    </tr>\n",
       "    <tr>\n",
       "      <th>5</th>\n",
       "      <td>2</td>\n",
       "      <td>34</td>\n",
       "      <td>1</td>\n",
       "      <td>4</td>\n",
       "      <td>0</td>\n",
       "      <td>0</td>\n",
       "      <td>0</td>\n",
       "      <td>0</td>\n",
       "      <td>0</td>\n",
       "      <td>0</td>\n",
       "      <td>what_causes</td>\n",
       "    </tr>\n",
       "    <tr>\n",
       "      <th>6</th>\n",
       "      <td>2</td>\n",
       "      <td>35</td>\n",
       "      <td>3</td>\n",
       "      <td>1</td>\n",
       "      <td>4</td>\n",
       "      <td>0</td>\n",
       "      <td>0</td>\n",
       "      <td>0</td>\n",
       "      <td>0</td>\n",
       "      <td>0</td>\n",
       "      <td>what_causes</td>\n",
       "    </tr>\n",
       "    <tr>\n",
       "      <th>7</th>\n",
       "      <td>6</td>\n",
       "      <td>12</td>\n",
       "      <td>21</td>\n",
       "      <td>36</td>\n",
       "      <td>37</td>\n",
       "      <td>38</td>\n",
       "      <td>0</td>\n",
       "      <td>0</td>\n",
       "      <td>0</td>\n",
       "      <td>0</td>\n",
       "      <td>what_causes</td>\n",
       "    </tr>\n",
       "    <tr>\n",
       "      <th>8</th>\n",
       "      <td>14</td>\n",
       "      <td>39</td>\n",
       "      <td>40</td>\n",
       "      <td>1</td>\n",
       "      <td>4</td>\n",
       "      <td>15</td>\n",
       "      <td>0</td>\n",
       "      <td>0</td>\n",
       "      <td>0</td>\n",
       "      <td>0</td>\n",
       "      <td>recover</td>\n",
       "    </tr>\n",
       "    <tr>\n",
       "      <th>9</th>\n",
       "      <td>7</td>\n",
       "      <td>18</td>\n",
       "      <td>41</td>\n",
       "      <td>3</td>\n",
       "      <td>15</td>\n",
       "      <td>42</td>\n",
       "      <td>1</td>\n",
       "      <td>4</td>\n",
       "      <td>0</td>\n",
       "      <td>0</td>\n",
       "      <td>recover</td>\n",
       "    </tr>\n",
       "    <tr>\n",
       "      <th>10</th>\n",
       "      <td>8</td>\n",
       "      <td>43</td>\n",
       "      <td>44</td>\n",
       "      <td>13</td>\n",
       "      <td>45</td>\n",
       "      <td>3</td>\n",
       "      <td>19</td>\n",
       "      <td>46</td>\n",
       "      <td>22</td>\n",
       "      <td>0</td>\n",
       "      <td>steps</td>\n",
       "    </tr>\n",
       "    <tr>\n",
       "      <th>11</th>\n",
       "      <td>2</td>\n",
       "      <td>16</td>\n",
       "      <td>9</td>\n",
       "      <td>47</td>\n",
       "      <td>3</td>\n",
       "      <td>48</td>\n",
       "      <td>49</td>\n",
       "      <td>50</td>\n",
       "      <td>23</td>\n",
       "      <td>22</td>\n",
       "      <td>steps</td>\n",
       "    </tr>\n",
       "    <tr>\n",
       "      <th>12</th>\n",
       "      <td>6</td>\n",
       "      <td>3</td>\n",
       "      <td>10</td>\n",
       "      <td>1</td>\n",
       "      <td>5</td>\n",
       "      <td>11</td>\n",
       "      <td>51</td>\n",
       "      <td>24</td>\n",
       "      <td>0</td>\n",
       "      <td>0</td>\n",
       "      <td>find_help</td>\n",
       "    </tr>\n",
       "    <tr>\n",
       "      <th>13</th>\n",
       "      <td>6</td>\n",
       "      <td>3</td>\n",
       "      <td>10</td>\n",
       "      <td>1</td>\n",
       "      <td>5</td>\n",
       "      <td>11</td>\n",
       "      <td>0</td>\n",
       "      <td>0</td>\n",
       "      <td>0</td>\n",
       "      <td>0</td>\n",
       "      <td>find_help</td>\n",
       "    </tr>\n",
       "    <tr>\n",
       "      <th>14</th>\n",
       "      <td>2</td>\n",
       "      <td>17</td>\n",
       "      <td>52</td>\n",
       "      <td>16</td>\n",
       "      <td>53</td>\n",
       "      <td>0</td>\n",
       "      <td>0</td>\n",
       "      <td>0</td>\n",
       "      <td>0</td>\n",
       "      <td>0</td>\n",
       "      <td>treatement_options</td>\n",
       "    </tr>\n",
       "    <tr>\n",
       "      <th>15</th>\n",
       "      <td>6</td>\n",
       "      <td>14</td>\n",
       "      <td>21</td>\n",
       "      <td>15</td>\n",
       "      <td>0</td>\n",
       "      <td>0</td>\n",
       "      <td>0</td>\n",
       "      <td>0</td>\n",
       "      <td>0</td>\n",
       "      <td>0</td>\n",
       "      <td>treatement_options</td>\n",
       "    </tr>\n",
       "    <tr>\n",
       "      <th>16</th>\n",
       "      <td>6</td>\n",
       "      <td>3</td>\n",
       "      <td>54</td>\n",
       "      <td>55</td>\n",
       "      <td>25</td>\n",
       "      <td>17</td>\n",
       "      <td>0</td>\n",
       "      <td>0</td>\n",
       "      <td>0</td>\n",
       "      <td>0</td>\n",
       "      <td>treatment_tips</td>\n",
       "    </tr>\n",
       "    <tr>\n",
       "      <th>17</th>\n",
       "      <td>2</td>\n",
       "      <td>56</td>\n",
       "      <td>8</td>\n",
       "      <td>57</td>\n",
       "      <td>25</td>\n",
       "      <td>58</td>\n",
       "      <td>59</td>\n",
       "      <td>8</td>\n",
       "      <td>60</td>\n",
       "      <td>17</td>\n",
       "      <td>treatment_tips</td>\n",
       "    </tr>\n",
       "    <tr>\n",
       "      <th>18</th>\n",
       "      <td>2</td>\n",
       "      <td>7</td>\n",
       "      <td>9</td>\n",
       "      <td>61</td>\n",
       "      <td>62</td>\n",
       "      <td>1</td>\n",
       "      <td>5</td>\n",
       "      <td>26</td>\n",
       "      <td>0</td>\n",
       "      <td>0</td>\n",
       "      <td>professional_types</td>\n",
       "    </tr>\n",
       "    <tr>\n",
       "      <th>19</th>\n",
       "      <td>2</td>\n",
       "      <td>16</td>\n",
       "      <td>9</td>\n",
       "      <td>63</td>\n",
       "      <td>64</td>\n",
       "      <td>23</td>\n",
       "      <td>1</td>\n",
       "      <td>5</td>\n",
       "      <td>26</td>\n",
       "      <td>65</td>\n",
       "      <td>professional_types</td>\n",
       "    </tr>\n",
       "    <tr>\n",
       "      <th>20</th>\n",
       "      <td>6</td>\n",
       "      <td>14</td>\n",
       "      <td>8</td>\n",
       "      <td>10</td>\n",
       "      <td>20</td>\n",
       "      <td>1</td>\n",
       "      <td>5</td>\n",
       "      <td>11</td>\n",
       "      <td>27</td>\n",
       "      <td>24</td>\n",
       "      <td>right_professional</td>\n",
       "    </tr>\n",
       "    <tr>\n",
       "      <th>21</th>\n",
       "      <td>6</td>\n",
       "      <td>3</td>\n",
       "      <td>10</td>\n",
       "      <td>9</td>\n",
       "      <td>27</td>\n",
       "      <td>1</td>\n",
       "      <td>5</td>\n",
       "      <td>11</td>\n",
       "      <td>0</td>\n",
       "      <td>0</td>\n",
       "      <td>right_professional</td>\n",
       "    </tr>\n",
       "  </tbody>\n",
       "</table>\n",
       "</div>"
      ],
      "text/plain": [
       "     0   1   2   3   4   5   6   7   8   9              labels\n",
       "0    2  12  18  28   3  19  20   1   4   0          definition\n",
       "1    2   7   1   5   4   0   0   0   0   0          definition\n",
       "2   29   1   5   4   0   0   0   0   0   0          definition\n",
       "3   13  12   1   4  30   0   0   0   0   0        affects_whom\n",
       "4   13   7  31  32  33   4   0   0   0   0        affects_whom\n",
       "5    2  34   1   4   0   0   0   0   0   0         what_causes\n",
       "6    2  35   3   1   4   0   0   0   0   0         what_causes\n",
       "7    6  12  21  36  37  38   0   0   0   0         what_causes\n",
       "8   14  39  40   1   4  15   0   0   0   0             recover\n",
       "9    7  18  41   3  15  42   1   4   0   0             recover\n",
       "10   8  43  44  13  45   3  19  46  22   0               steps\n",
       "11   2  16   9  47   3  48  49  50  23  22               steps\n",
       "12   6   3  10   1   5  11  51  24   0   0           find_help\n",
       "13   6   3  10   1   5  11   0   0   0   0           find_help\n",
       "14   2  17  52  16  53   0   0   0   0   0  treatement_options\n",
       "15   6  14  21  15   0   0   0   0   0   0  treatement_options\n",
       "16   6   3  54  55  25  17   0   0   0   0      treatment_tips\n",
       "17   2  56   8  57  25  58  59   8  60  17      treatment_tips\n",
       "18   2   7   9  61  62   1   5  26   0   0  professional_types\n",
       "19   2  16   9  63  64  23   1   5  26  65  professional_types\n",
       "20   6  14   8  10  20   1   5  11  27  24  right_professional\n",
       "21   6   3  10   9  27   1   5  11   0   0  right_professional"
      ]
     },
     "execution_count": 29,
     "metadata": {},
     "output_type": "execute_result"
    }
   ],
   "source": [
    "df_encoded"
   ]
  },
  {
   "cell_type": "code",
   "execution_count": 30,
   "metadata": {
    "colab": {
     "base_uri": "https://localhost:8080/"
    },
    "id": "kxyYd8LvXSwB",
    "outputId": "32c053a6-2222-4c09-d36d-c2ace77ed244"
   },
   "outputs": [
    {
     "data": {
      "text/plain": [
       "array([1, 1, 1, 0, 0, 9, 9, 9, 4, 4, 6, 6, 2, 2, 7, 7, 8, 8, 3, 3, 5, 5])"
      ]
     },
     "execution_count": 30,
     "metadata": {},
     "output_type": "execute_result"
    }
   ],
   "source": [
    "from sklearn.preprocessing import LabelEncoder\n",
    "lable_enc = LabelEncoder()\n",
    "\n",
    "# encoding the labels\n",
    "\n",
    "labl = lable_enc.fit_transform(df_encoded.labels)\n",
    "labl"
   ]
  },
  {
   "cell_type": "code",
   "execution_count": 31,
   "metadata": {
    "colab": {
     "base_uri": "https://localhost:8080/"
    },
    "id": "EL0qCx9e_9Jm",
    "outputId": "e7ac0310-b592-4f3d-920f-acefda9bdeba"
   },
   "outputs": [
    {
     "data": {
      "text/plain": [
       "22"
      ]
     },
     "execution_count": 31,
     "metadata": {},
     "output_type": "execute_result"
    }
   ],
   "source": [
    "len(labl)"
   ]
  },
  {
   "cell_type": "code",
   "execution_count": 32,
   "metadata": {
    "colab": {
     "base_uri": "https://localhost:8080/"
    },
    "id": "XMC_1ZukXiDL",
    "outputId": "cd90cd74-9007-4df0-d558-f07cd0e9db15"
   },
   "outputs": [
    {
     "data": {
      "text/plain": [
       "{'definition': 1,\n",
       " 'affects_whom': 0,\n",
       " 'what_causes': 9,\n",
       " 'recover': 4,\n",
       " 'steps': 6,\n",
       " 'find_help': 2,\n",
       " 'treatement_options': 7,\n",
       " 'treatment_tips': 8,\n",
       " 'professional_types': 3,\n",
       " 'right_professional': 5}"
      ]
     },
     "execution_count": 32,
     "metadata": {},
     "output_type": "execute_result"
    }
   ],
   "source": [
    "mapper = {}\n",
    "for index,key in enumerate(df_encoded.labels):\n",
    "    if key not in mapper.keys():\n",
    "        mapper[key] = labl[index]\n",
    "mapper"
   ]
  },
  {
   "cell_type": "markdown",
   "metadata": {
    "id": "P3myx7GaAI5Q"
   },
   "source": [
    "Repeat the same for df2"
   ]
  },
  {
   "cell_type": "code",
   "execution_count": 33,
   "metadata": {
    "colab": {
     "base_uri": "https://localhost:8080/",
     "height": 203
    },
    "id": "4nCk2oQbXh_X",
    "outputId": "7fa8a86a-9bb1-40c5-9bbb-d08e0472e4f1"
   },
   "outputs": [
    {
     "data": {
      "text/html": [
       "<div>\n",
       "<style scoped>\n",
       "    .dataframe tbody tr th:only-of-type {\n",
       "        vertical-align: middle;\n",
       "    }\n",
       "\n",
       "    .dataframe tbody tr th {\n",
       "        vertical-align: top;\n",
       "    }\n",
       "\n",
       "    .dataframe thead th {\n",
       "        text-align: right;\n",
       "    }\n",
       "</style>\n",
       "<table border=\"1\" class=\"dataframe\">\n",
       "  <thead>\n",
       "    <tr style=\"text-align: right;\">\n",
       "      <th></th>\n",
       "      <th>response</th>\n",
       "      <th>labels</th>\n",
       "    </tr>\n",
       "  </thead>\n",
       "  <tbody>\n",
       "    <tr>\n",
       "      <th>0</th>\n",
       "      <td>Mental illnesses are health conditions that di...</td>\n",
       "      <td>definition</td>\n",
       "    </tr>\n",
       "    <tr>\n",
       "      <th>1</th>\n",
       "      <td>It is estimated that mental illness affects 1 ...</td>\n",
       "      <td>affects_whom</td>\n",
       "    </tr>\n",
       "    <tr>\n",
       "      <th>2</th>\n",
       "      <td>Symptoms of mental health disorders vary depen...</td>\n",
       "      <td>what_causes</td>\n",
       "    </tr>\n",
       "    <tr>\n",
       "      <th>3</th>\n",
       "      <td>When healing from mental illness, early identi...</td>\n",
       "      <td>recover</td>\n",
       "    </tr>\n",
       "    <tr>\n",
       "      <th>4</th>\n",
       "      <td>Although this website cannot substitute for pr...</td>\n",
       "      <td>steps</td>\n",
       "    </tr>\n",
       "  </tbody>\n",
       "</table>\n",
       "</div>"
      ],
      "text/plain": [
       "                                            response        labels\n",
       "0  Mental illnesses are health conditions that di...    definition\n",
       "1  It is estimated that mental illness affects 1 ...  affects_whom\n",
       "2  Symptoms of mental health disorders vary depen...   what_causes\n",
       "3  When healing from mental illness, early identi...       recover\n",
       "4  Although this website cannot substitute for pr...         steps"
      ]
     },
     "execution_count": 33,
     "metadata": {},
     "output_type": "execute_result"
    }
   ],
   "source": [
    "df2.head()"
   ]
  },
  {
   "cell_type": "code",
   "execution_count": 34,
   "metadata": {
    "colab": {
     "base_uri": "https://localhost:8080/",
     "height": 357
    },
    "id": "5mqpR_GuMPrc",
    "outputId": "4f2363e2-0a7b-45cf-b527-e4c108400f08"
   },
   "outputs": [
    {
     "data": {
      "text/html": [
       "<div>\n",
       "<style scoped>\n",
       "    .dataframe tbody tr th:only-of-type {\n",
       "        vertical-align: middle;\n",
       "    }\n",
       "\n",
       "    .dataframe tbody tr th {\n",
       "        vertical-align: top;\n",
       "    }\n",
       "\n",
       "    .dataframe thead th {\n",
       "        text-align: right;\n",
       "    }\n",
       "</style>\n",
       "<table border=\"1\" class=\"dataframe\">\n",
       "  <thead>\n",
       "    <tr style=\"text-align: right;\">\n",
       "      <th></th>\n",
       "      <th>response</th>\n",
       "      <th>labels</th>\n",
       "    </tr>\n",
       "  </thead>\n",
       "  <tbody>\n",
       "    <tr>\n",
       "      <th>0</th>\n",
       "      <td>Mental illnesses are health conditions that di...</td>\n",
       "      <td>definition</td>\n",
       "    </tr>\n",
       "    <tr>\n",
       "      <th>1</th>\n",
       "      <td>It is estimated that mental illness affects 1 ...</td>\n",
       "      <td>affects_whom</td>\n",
       "    </tr>\n",
       "    <tr>\n",
       "      <th>2</th>\n",
       "      <td>Symptoms of mental health disorders vary depen...</td>\n",
       "      <td>what_causes</td>\n",
       "    </tr>\n",
       "    <tr>\n",
       "      <th>3</th>\n",
       "      <td>When healing from mental illness, early identi...</td>\n",
       "      <td>recover</td>\n",
       "    </tr>\n",
       "    <tr>\n",
       "      <th>4</th>\n",
       "      <td>Although this website cannot substitute for pr...</td>\n",
       "      <td>steps</td>\n",
       "    </tr>\n",
       "    <tr>\n",
       "      <th>5</th>\n",
       "      <td>Feeling comfortable with the professional you ...</td>\n",
       "      <td>find_help</td>\n",
       "    </tr>\n",
       "    <tr>\n",
       "      <th>6</th>\n",
       "      <td>Just as there are different types of medicatio...</td>\n",
       "      <td>treatement_options</td>\n",
       "    </tr>\n",
       "    <tr>\n",
       "      <th>7</th>\n",
       "      <td>Since beginning treatment is a big step for in...</td>\n",
       "      <td>treatment_tips</td>\n",
       "    </tr>\n",
       "    <tr>\n",
       "      <th>8</th>\n",
       "      <td>There are many types of mental health professi...</td>\n",
       "      <td>professional_types</td>\n",
       "    </tr>\n",
       "    <tr>\n",
       "      <th>9</th>\n",
       "      <td>Feeling comfortable with the professional you ...</td>\n",
       "      <td>right_professional</td>\n",
       "    </tr>\n",
       "  </tbody>\n",
       "</table>\n",
       "</div>"
      ],
      "text/plain": [
       "                                            response              labels\n",
       "0  Mental illnesses are health conditions that di...          definition\n",
       "1  It is estimated that mental illness affects 1 ...        affects_whom\n",
       "2  Symptoms of mental health disorders vary depen...         what_causes\n",
       "3  When healing from mental illness, early identi...             recover\n",
       "4  Although this website cannot substitute for pr...               steps\n",
       "5  Feeling comfortable with the professional you ...           find_help\n",
       "6  Just as there are different types of medicatio...  treatement_options\n",
       "7  Since beginning treatment is a big step for in...      treatment_tips\n",
       "8  There are many types of mental health professi...  professional_types\n",
       "9  Feeling comfortable with the professional you ...  right_professional"
      ]
     },
     "execution_count": 34,
     "metadata": {},
     "output_type": "execute_result"
    }
   ],
   "source": [
    "df2"
   ]
  },
  {
   "cell_type": "code",
   "execution_count": 35,
   "metadata": {
    "colab": {
     "base_uri": "https://localhost:8080/",
     "height": 203
    },
    "id": "cR7qqxoeXh8w",
    "outputId": "bfb288a2-e061-4928-9b8b-3a1e20d69fa2"
   },
   "outputs": [
    {
     "data": {
      "text/html": [
       "<div>\n",
       "<style scoped>\n",
       "    .dataframe tbody tr th:only-of-type {\n",
       "        vertical-align: middle;\n",
       "    }\n",
       "\n",
       "    .dataframe tbody tr th {\n",
       "        vertical-align: top;\n",
       "    }\n",
       "\n",
       "    .dataframe thead th {\n",
       "        text-align: right;\n",
       "    }\n",
       "</style>\n",
       "<table border=\"1\" class=\"dataframe\">\n",
       "  <thead>\n",
       "    <tr style=\"text-align: right;\">\n",
       "      <th></th>\n",
       "      <th>response</th>\n",
       "      <th>labels</th>\n",
       "    </tr>\n",
       "  </thead>\n",
       "  <tbody>\n",
       "    <tr>\n",
       "      <th>0</th>\n",
       "      <td>Mental illnesses are health conditions that di...</td>\n",
       "      <td>1</td>\n",
       "    </tr>\n",
       "    <tr>\n",
       "      <th>1</th>\n",
       "      <td>It is estimated that mental illness affects 1 ...</td>\n",
       "      <td>0</td>\n",
       "    </tr>\n",
       "    <tr>\n",
       "      <th>2</th>\n",
       "      <td>Symptoms of mental health disorders vary depen...</td>\n",
       "      <td>9</td>\n",
       "    </tr>\n",
       "    <tr>\n",
       "      <th>3</th>\n",
       "      <td>When healing from mental illness, early identi...</td>\n",
       "      <td>4</td>\n",
       "    </tr>\n",
       "    <tr>\n",
       "      <th>4</th>\n",
       "      <td>Although this website cannot substitute for pr...</td>\n",
       "      <td>6</td>\n",
       "    </tr>\n",
       "  </tbody>\n",
       "</table>\n",
       "</div>"
      ],
      "text/plain": [
       "                                            response  labels\n",
       "0  Mental illnesses are health conditions that di...       1\n",
       "1  It is estimated that mental illness affects 1 ...       0\n",
       "2  Symptoms of mental health disorders vary depen...       9\n",
       "3  When healing from mental illness, early identi...       4\n",
       "4  Although this website cannot substitute for pr...       6"
      ]
     },
     "execution_count": 35,
     "metadata": {},
     "output_type": "execute_result"
    }
   ],
   "source": [
    "df2.labels = df2.labels.map(mapper).astype({'labels': 'int32'})\n",
    "df2.head()"
   ]
  },
  {
   "cell_type": "code",
   "execution_count": 36,
   "metadata": {
    "id": "4ixZCvNZXn4g"
   },
   "outputs": [],
   "source": [
    "df2.to_csv('response.csv',index=False)"
   ]
  },
  {
   "cell_type": "code",
   "execution_count": 37,
   "metadata": {
    "colab": {
     "base_uri": "https://localhost:8080/",
     "height": 203
    },
    "id": "hIjUTKNvAfao",
    "outputId": "a084e1eb-af7a-49bd-c664-4453abdaf6c0"
   },
   "outputs": [
    {
     "data": {
      "text/html": [
       "<div>\n",
       "<style scoped>\n",
       "    .dataframe tbody tr th:only-of-type {\n",
       "        vertical-align: middle;\n",
       "    }\n",
       "\n",
       "    .dataframe tbody tr th {\n",
       "        vertical-align: top;\n",
       "    }\n",
       "\n",
       "    .dataframe thead th {\n",
       "        text-align: right;\n",
       "    }\n",
       "</style>\n",
       "<table border=\"1\" class=\"dataframe\">\n",
       "  <thead>\n",
       "    <tr style=\"text-align: right;\">\n",
       "      <th></th>\n",
       "      <th>0</th>\n",
       "      <th>1</th>\n",
       "      <th>2</th>\n",
       "      <th>3</th>\n",
       "      <th>4</th>\n",
       "      <th>5</th>\n",
       "      <th>6</th>\n",
       "      <th>7</th>\n",
       "      <th>8</th>\n",
       "      <th>9</th>\n",
       "      <th>labels</th>\n",
       "    </tr>\n",
       "  </thead>\n",
       "  <tbody>\n",
       "    <tr>\n",
       "      <th>0</th>\n",
       "      <td>2</td>\n",
       "      <td>12</td>\n",
       "      <td>18</td>\n",
       "      <td>28</td>\n",
       "      <td>3</td>\n",
       "      <td>19</td>\n",
       "      <td>20</td>\n",
       "      <td>1</td>\n",
       "      <td>4</td>\n",
       "      <td>0</td>\n",
       "      <td>definition</td>\n",
       "    </tr>\n",
       "    <tr>\n",
       "      <th>1</th>\n",
       "      <td>2</td>\n",
       "      <td>7</td>\n",
       "      <td>1</td>\n",
       "      <td>5</td>\n",
       "      <td>4</td>\n",
       "      <td>0</td>\n",
       "      <td>0</td>\n",
       "      <td>0</td>\n",
       "      <td>0</td>\n",
       "      <td>0</td>\n",
       "      <td>definition</td>\n",
       "    </tr>\n",
       "    <tr>\n",
       "      <th>2</th>\n",
       "      <td>29</td>\n",
       "      <td>1</td>\n",
       "      <td>5</td>\n",
       "      <td>4</td>\n",
       "      <td>0</td>\n",
       "      <td>0</td>\n",
       "      <td>0</td>\n",
       "      <td>0</td>\n",
       "      <td>0</td>\n",
       "      <td>0</td>\n",
       "      <td>definition</td>\n",
       "    </tr>\n",
       "    <tr>\n",
       "      <th>3</th>\n",
       "      <td>13</td>\n",
       "      <td>12</td>\n",
       "      <td>1</td>\n",
       "      <td>4</td>\n",
       "      <td>30</td>\n",
       "      <td>0</td>\n",
       "      <td>0</td>\n",
       "      <td>0</td>\n",
       "      <td>0</td>\n",
       "      <td>0</td>\n",
       "      <td>affects_whom</td>\n",
       "    </tr>\n",
       "    <tr>\n",
       "      <th>4</th>\n",
       "      <td>13</td>\n",
       "      <td>7</td>\n",
       "      <td>31</td>\n",
       "      <td>32</td>\n",
       "      <td>33</td>\n",
       "      <td>4</td>\n",
       "      <td>0</td>\n",
       "      <td>0</td>\n",
       "      <td>0</td>\n",
       "      <td>0</td>\n",
       "      <td>affects_whom</td>\n",
       "    </tr>\n",
       "  </tbody>\n",
       "</table>\n",
       "</div>"
      ],
      "text/plain": [
       "    0   1   2   3   4   5   6  7  8  9        labels\n",
       "0   2  12  18  28   3  19  20  1  4  0    definition\n",
       "1   2   7   1   5   4   0   0  0  0  0    definition\n",
       "2  29   1   5   4   0   0   0  0  0  0    definition\n",
       "3  13  12   1   4  30   0   0  0  0  0  affects_whom\n",
       "4  13   7  31  32  33   4   0  0  0  0  affects_whom"
      ]
     },
     "execution_count": 37,
     "metadata": {},
     "output_type": "execute_result"
    }
   ],
   "source": [
    "df_encoded.head()"
   ]
  },
  {
   "cell_type": "code",
   "execution_count": 38,
   "metadata": {
    "colab": {
     "base_uri": "https://localhost:8080/"
    },
    "id": "gIyITJXtAkHZ",
    "outputId": "59a4c91e-e020-48ad-e2d4-44587dba3534"
   },
   "outputs": [
    {
     "data": {
      "text/plain": [
       "[1, 2, 4, 6, 7, 9, 11, 13, 15, 17, 19, 21]"
      ]
     },
     "execution_count": 38,
     "metadata": {},
     "output_type": "execute_result"
    }
   ],
   "source": [
    "train_index"
   ]
  },
  {
   "cell_type": "code",
   "execution_count": 39,
   "metadata": {
    "colab": {
     "base_uri": "https://localhost:8080/"
    },
    "id": "mdAynG8hAmUF",
    "outputId": "aff7c007-10fe-4482-d4fa-ff03e1c283d1"
   },
   "outputs": [
    {
     "data": {
      "text/plain": [
       "[3, 0, 12, 18, 8, 20, 10, 14, 16, 5]"
      ]
     },
     "execution_count": 39,
     "metadata": {},
     "output_type": "execute_result"
    }
   ],
   "source": [
    "test_index"
   ]
  },
  {
   "cell_type": "code",
   "execution_count": 40,
   "metadata": {
    "id": "-KWZh9SUXtwA"
   },
   "outputs": [],
   "source": [
    "train = df_encoded.loc[train_index]\n",
    "test = df_encoded.loc[test_index]"
   ]
  },
  {
   "cell_type": "markdown",
   "metadata": {
    "id": "Fb9aSpfs7NSN"
   },
   "source": [
    "## Training and testing"
   ]
  },
  {
   "cell_type": "code",
   "execution_count": 41,
   "metadata": {
    "colab": {
     "base_uri": "https://localhost:8080/",
     "height": 418
    },
    "id": "AcAZpSdmBYSx",
    "outputId": "001562f0-5172-4d9d-a1bc-5c57b6b84084"
   },
   "outputs": [
    {
     "data": {
      "text/html": [
       "<div>\n",
       "<style scoped>\n",
       "    .dataframe tbody tr th:only-of-type {\n",
       "        vertical-align: middle;\n",
       "    }\n",
       "\n",
       "    .dataframe tbody tr th {\n",
       "        vertical-align: top;\n",
       "    }\n",
       "\n",
       "    .dataframe thead th {\n",
       "        text-align: right;\n",
       "    }\n",
       "</style>\n",
       "<table border=\"1\" class=\"dataframe\">\n",
       "  <thead>\n",
       "    <tr style=\"text-align: right;\">\n",
       "      <th></th>\n",
       "      <th>0</th>\n",
       "      <th>1</th>\n",
       "      <th>2</th>\n",
       "      <th>3</th>\n",
       "      <th>4</th>\n",
       "      <th>5</th>\n",
       "      <th>6</th>\n",
       "      <th>7</th>\n",
       "      <th>8</th>\n",
       "      <th>9</th>\n",
       "      <th>labels</th>\n",
       "    </tr>\n",
       "  </thead>\n",
       "  <tbody>\n",
       "    <tr>\n",
       "      <th>1</th>\n",
       "      <td>2</td>\n",
       "      <td>7</td>\n",
       "      <td>1</td>\n",
       "      <td>5</td>\n",
       "      <td>4</td>\n",
       "      <td>0</td>\n",
       "      <td>0</td>\n",
       "      <td>0</td>\n",
       "      <td>0</td>\n",
       "      <td>0</td>\n",
       "      <td>definition</td>\n",
       "    </tr>\n",
       "    <tr>\n",
       "      <th>2</th>\n",
       "      <td>29</td>\n",
       "      <td>1</td>\n",
       "      <td>5</td>\n",
       "      <td>4</td>\n",
       "      <td>0</td>\n",
       "      <td>0</td>\n",
       "      <td>0</td>\n",
       "      <td>0</td>\n",
       "      <td>0</td>\n",
       "      <td>0</td>\n",
       "      <td>definition</td>\n",
       "    </tr>\n",
       "    <tr>\n",
       "      <th>4</th>\n",
       "      <td>13</td>\n",
       "      <td>7</td>\n",
       "      <td>31</td>\n",
       "      <td>32</td>\n",
       "      <td>33</td>\n",
       "      <td>4</td>\n",
       "      <td>0</td>\n",
       "      <td>0</td>\n",
       "      <td>0</td>\n",
       "      <td>0</td>\n",
       "      <td>affects_whom</td>\n",
       "    </tr>\n",
       "    <tr>\n",
       "      <th>6</th>\n",
       "      <td>2</td>\n",
       "      <td>35</td>\n",
       "      <td>3</td>\n",
       "      <td>1</td>\n",
       "      <td>4</td>\n",
       "      <td>0</td>\n",
       "      <td>0</td>\n",
       "      <td>0</td>\n",
       "      <td>0</td>\n",
       "      <td>0</td>\n",
       "      <td>what_causes</td>\n",
       "    </tr>\n",
       "    <tr>\n",
       "      <th>7</th>\n",
       "      <td>6</td>\n",
       "      <td>12</td>\n",
       "      <td>21</td>\n",
       "      <td>36</td>\n",
       "      <td>37</td>\n",
       "      <td>38</td>\n",
       "      <td>0</td>\n",
       "      <td>0</td>\n",
       "      <td>0</td>\n",
       "      <td>0</td>\n",
       "      <td>what_causes</td>\n",
       "    </tr>\n",
       "    <tr>\n",
       "      <th>9</th>\n",
       "      <td>7</td>\n",
       "      <td>18</td>\n",
       "      <td>41</td>\n",
       "      <td>3</td>\n",
       "      <td>15</td>\n",
       "      <td>42</td>\n",
       "      <td>1</td>\n",
       "      <td>4</td>\n",
       "      <td>0</td>\n",
       "      <td>0</td>\n",
       "      <td>recover</td>\n",
       "    </tr>\n",
       "    <tr>\n",
       "      <th>11</th>\n",
       "      <td>2</td>\n",
       "      <td>16</td>\n",
       "      <td>9</td>\n",
       "      <td>47</td>\n",
       "      <td>3</td>\n",
       "      <td>48</td>\n",
       "      <td>49</td>\n",
       "      <td>50</td>\n",
       "      <td>23</td>\n",
       "      <td>22</td>\n",
       "      <td>steps</td>\n",
       "    </tr>\n",
       "    <tr>\n",
       "      <th>13</th>\n",
       "      <td>6</td>\n",
       "      <td>3</td>\n",
       "      <td>10</td>\n",
       "      <td>1</td>\n",
       "      <td>5</td>\n",
       "      <td>11</td>\n",
       "      <td>0</td>\n",
       "      <td>0</td>\n",
       "      <td>0</td>\n",
       "      <td>0</td>\n",
       "      <td>find_help</td>\n",
       "    </tr>\n",
       "    <tr>\n",
       "      <th>15</th>\n",
       "      <td>6</td>\n",
       "      <td>14</td>\n",
       "      <td>21</td>\n",
       "      <td>15</td>\n",
       "      <td>0</td>\n",
       "      <td>0</td>\n",
       "      <td>0</td>\n",
       "      <td>0</td>\n",
       "      <td>0</td>\n",
       "      <td>0</td>\n",
       "      <td>treatement_options</td>\n",
       "    </tr>\n",
       "    <tr>\n",
       "      <th>17</th>\n",
       "      <td>2</td>\n",
       "      <td>56</td>\n",
       "      <td>8</td>\n",
       "      <td>57</td>\n",
       "      <td>25</td>\n",
       "      <td>58</td>\n",
       "      <td>59</td>\n",
       "      <td>8</td>\n",
       "      <td>60</td>\n",
       "      <td>17</td>\n",
       "      <td>treatment_tips</td>\n",
       "    </tr>\n",
       "    <tr>\n",
       "      <th>19</th>\n",
       "      <td>2</td>\n",
       "      <td>16</td>\n",
       "      <td>9</td>\n",
       "      <td>63</td>\n",
       "      <td>64</td>\n",
       "      <td>23</td>\n",
       "      <td>1</td>\n",
       "      <td>5</td>\n",
       "      <td>26</td>\n",
       "      <td>65</td>\n",
       "      <td>professional_types</td>\n",
       "    </tr>\n",
       "    <tr>\n",
       "      <th>21</th>\n",
       "      <td>6</td>\n",
       "      <td>3</td>\n",
       "      <td>10</td>\n",
       "      <td>9</td>\n",
       "      <td>27</td>\n",
       "      <td>1</td>\n",
       "      <td>5</td>\n",
       "      <td>11</td>\n",
       "      <td>0</td>\n",
       "      <td>0</td>\n",
       "      <td>right_professional</td>\n",
       "    </tr>\n",
       "  </tbody>\n",
       "</table>\n",
       "</div>"
      ],
      "text/plain": [
       "     0   1   2   3   4   5   6   7   8   9              labels\n",
       "1    2   7   1   5   4   0   0   0   0   0          definition\n",
       "2   29   1   5   4   0   0   0   0   0   0          definition\n",
       "4   13   7  31  32  33   4   0   0   0   0        affects_whom\n",
       "6    2  35   3   1   4   0   0   0   0   0         what_causes\n",
       "7    6  12  21  36  37  38   0   0   0   0         what_causes\n",
       "9    7  18  41   3  15  42   1   4   0   0             recover\n",
       "11   2  16   9  47   3  48  49  50  23  22               steps\n",
       "13   6   3  10   1   5  11   0   0   0   0           find_help\n",
       "15   6  14  21  15   0   0   0   0   0   0  treatement_options\n",
       "17   2  56   8  57  25  58  59   8  60  17      treatment_tips\n",
       "19   2  16   9  63  64  23   1   5  26  65  professional_types\n",
       "21   6   3  10   9  27   1   5  11   0   0  right_professional"
      ]
     },
     "execution_count": 41,
     "metadata": {},
     "output_type": "execute_result"
    }
   ],
   "source": [
    "train"
   ]
  },
  {
   "cell_type": "code",
   "execution_count": 42,
   "metadata": {
    "colab": {
     "base_uri": "https://localhost:8080/",
     "height": 203
    },
    "id": "epPEROQGBlsm",
    "outputId": "20e37b06-0375-4ce9-82d2-0a4cb57bec53"
   },
   "outputs": [
    {
     "data": {
      "text/html": [
       "<div>\n",
       "<style scoped>\n",
       "    .dataframe tbody tr th:only-of-type {\n",
       "        vertical-align: middle;\n",
       "    }\n",
       "\n",
       "    .dataframe tbody tr th {\n",
       "        vertical-align: top;\n",
       "    }\n",
       "\n",
       "    .dataframe thead th {\n",
       "        text-align: right;\n",
       "    }\n",
       "</style>\n",
       "<table border=\"1\" class=\"dataframe\">\n",
       "  <thead>\n",
       "    <tr style=\"text-align: right;\">\n",
       "      <th></th>\n",
       "      <th>0</th>\n",
       "      <th>1</th>\n",
       "      <th>2</th>\n",
       "      <th>3</th>\n",
       "      <th>4</th>\n",
       "      <th>5</th>\n",
       "      <th>6</th>\n",
       "      <th>7</th>\n",
       "      <th>8</th>\n",
       "      <th>9</th>\n",
       "      <th>labels</th>\n",
       "    </tr>\n",
       "  </thead>\n",
       "  <tbody>\n",
       "    <tr>\n",
       "      <th>3</th>\n",
       "      <td>13</td>\n",
       "      <td>12</td>\n",
       "      <td>1</td>\n",
       "      <td>4</td>\n",
       "      <td>30</td>\n",
       "      <td>0</td>\n",
       "      <td>0</td>\n",
       "      <td>0</td>\n",
       "      <td>0</td>\n",
       "      <td>0</td>\n",
       "      <td>affects_whom</td>\n",
       "    </tr>\n",
       "    <tr>\n",
       "      <th>0</th>\n",
       "      <td>2</td>\n",
       "      <td>12</td>\n",
       "      <td>18</td>\n",
       "      <td>28</td>\n",
       "      <td>3</td>\n",
       "      <td>19</td>\n",
       "      <td>20</td>\n",
       "      <td>1</td>\n",
       "      <td>4</td>\n",
       "      <td>0</td>\n",
       "      <td>definition</td>\n",
       "    </tr>\n",
       "    <tr>\n",
       "      <th>12</th>\n",
       "      <td>6</td>\n",
       "      <td>3</td>\n",
       "      <td>10</td>\n",
       "      <td>1</td>\n",
       "      <td>5</td>\n",
       "      <td>11</td>\n",
       "      <td>51</td>\n",
       "      <td>24</td>\n",
       "      <td>0</td>\n",
       "      <td>0</td>\n",
       "      <td>find_help</td>\n",
       "    </tr>\n",
       "    <tr>\n",
       "      <th>18</th>\n",
       "      <td>2</td>\n",
       "      <td>7</td>\n",
       "      <td>9</td>\n",
       "      <td>61</td>\n",
       "      <td>62</td>\n",
       "      <td>1</td>\n",
       "      <td>5</td>\n",
       "      <td>26</td>\n",
       "      <td>0</td>\n",
       "      <td>0</td>\n",
       "      <td>professional_types</td>\n",
       "    </tr>\n",
       "    <tr>\n",
       "      <th>8</th>\n",
       "      <td>14</td>\n",
       "      <td>39</td>\n",
       "      <td>40</td>\n",
       "      <td>1</td>\n",
       "      <td>4</td>\n",
       "      <td>15</td>\n",
       "      <td>0</td>\n",
       "      <td>0</td>\n",
       "      <td>0</td>\n",
       "      <td>0</td>\n",
       "      <td>recover</td>\n",
       "    </tr>\n",
       "  </tbody>\n",
       "</table>\n",
       "</div>"
      ],
      "text/plain": [
       "     0   1   2   3   4   5   6   7  8  9              labels\n",
       "3   13  12   1   4  30   0   0   0  0  0        affects_whom\n",
       "0    2  12  18  28   3  19  20   1  4  0          definition\n",
       "12   6   3  10   1   5  11  51  24  0  0           find_help\n",
       "18   2   7   9  61  62   1   5  26  0  0  professional_types\n",
       "8   14  39  40   1   4  15   0   0  0  0             recover"
      ]
     },
     "execution_count": 42,
     "metadata": {},
     "output_type": "execute_result"
    }
   ],
   "source": [
    "test.head()"
   ]
  },
  {
   "cell_type": "code",
   "execution_count": 43,
   "metadata": {
    "colab": {
     "base_uri": "https://localhost:8080/"
    },
    "id": "C1ZYcCJFmQfg",
    "outputId": "3726982d-8103-4c01-c4ac-cb1cc22665d5"
   },
   "outputs": [
    {
     "data": {
      "text/plain": [
       "definition            2\n",
       "what_causes           2\n",
       "affects_whom          1\n",
       "recover               1\n",
       "steps                 1\n",
       "find_help             1\n",
       "treatement_options    1\n",
       "treatment_tips        1\n",
       "professional_types    1\n",
       "right_professional    1\n",
       "Name: labels, dtype: int64"
      ]
     },
     "execution_count": 43,
     "metadata": {},
     "output_type": "execute_result"
    }
   ],
   "source": [
    "train.labels.value_counts()"
   ]
  },
  {
   "cell_type": "code",
   "execution_count": 44,
   "metadata": {
    "colab": {
     "base_uri": "https://localhost:8080/"
    },
    "id": "E46URbzfmTLE",
    "outputId": "6f923aae-c043-43e7-d209-94ff07b7881e"
   },
   "outputs": [
    {
     "data": {
      "text/plain": [
       "affects_whom          1\n",
       "definition            1\n",
       "find_help             1\n",
       "professional_types    1\n",
       "recover               1\n",
       "right_professional    1\n",
       "steps                 1\n",
       "treatement_options    1\n",
       "treatment_tips        1\n",
       "what_causes           1\n",
       "Name: labels, dtype: int64"
      ]
     },
     "execution_count": 44,
     "metadata": {},
     "output_type": "execute_result"
    }
   ],
   "source": [
    "test.labels.value_counts()"
   ]
  },
  {
   "cell_type": "code",
   "execution_count": 45,
   "metadata": {
    "colab": {
     "base_uri": "https://localhost:8080/",
     "height": 418
    },
    "id": "PcbjQwN-RQui",
    "outputId": "0eebccd7-fa8c-4bdf-cedc-c8bd68ce066d"
   },
   "outputs": [
    {
     "data": {
      "text/html": [
       "<div>\n",
       "<style scoped>\n",
       "    .dataframe tbody tr th:only-of-type {\n",
       "        vertical-align: middle;\n",
       "    }\n",
       "\n",
       "    .dataframe tbody tr th {\n",
       "        vertical-align: top;\n",
       "    }\n",
       "\n",
       "    .dataframe thead th {\n",
       "        text-align: right;\n",
       "    }\n",
       "</style>\n",
       "<table border=\"1\" class=\"dataframe\">\n",
       "  <thead>\n",
       "    <tr style=\"text-align: right;\">\n",
       "      <th></th>\n",
       "      <th>0</th>\n",
       "      <th>1</th>\n",
       "      <th>2</th>\n",
       "      <th>3</th>\n",
       "      <th>4</th>\n",
       "      <th>5</th>\n",
       "      <th>6</th>\n",
       "      <th>7</th>\n",
       "      <th>8</th>\n",
       "      <th>9</th>\n",
       "      <th>labels</th>\n",
       "    </tr>\n",
       "  </thead>\n",
       "  <tbody>\n",
       "    <tr>\n",
       "      <th>1</th>\n",
       "      <td>2</td>\n",
       "      <td>7</td>\n",
       "      <td>1</td>\n",
       "      <td>5</td>\n",
       "      <td>4</td>\n",
       "      <td>0</td>\n",
       "      <td>0</td>\n",
       "      <td>0</td>\n",
       "      <td>0</td>\n",
       "      <td>0</td>\n",
       "      <td>definition</td>\n",
       "    </tr>\n",
       "    <tr>\n",
       "      <th>2</th>\n",
       "      <td>29</td>\n",
       "      <td>1</td>\n",
       "      <td>5</td>\n",
       "      <td>4</td>\n",
       "      <td>0</td>\n",
       "      <td>0</td>\n",
       "      <td>0</td>\n",
       "      <td>0</td>\n",
       "      <td>0</td>\n",
       "      <td>0</td>\n",
       "      <td>definition</td>\n",
       "    </tr>\n",
       "    <tr>\n",
       "      <th>4</th>\n",
       "      <td>13</td>\n",
       "      <td>7</td>\n",
       "      <td>31</td>\n",
       "      <td>32</td>\n",
       "      <td>33</td>\n",
       "      <td>4</td>\n",
       "      <td>0</td>\n",
       "      <td>0</td>\n",
       "      <td>0</td>\n",
       "      <td>0</td>\n",
       "      <td>affects_whom</td>\n",
       "    </tr>\n",
       "    <tr>\n",
       "      <th>6</th>\n",
       "      <td>2</td>\n",
       "      <td>35</td>\n",
       "      <td>3</td>\n",
       "      <td>1</td>\n",
       "      <td>4</td>\n",
       "      <td>0</td>\n",
       "      <td>0</td>\n",
       "      <td>0</td>\n",
       "      <td>0</td>\n",
       "      <td>0</td>\n",
       "      <td>what_causes</td>\n",
       "    </tr>\n",
       "    <tr>\n",
       "      <th>7</th>\n",
       "      <td>6</td>\n",
       "      <td>12</td>\n",
       "      <td>21</td>\n",
       "      <td>36</td>\n",
       "      <td>37</td>\n",
       "      <td>38</td>\n",
       "      <td>0</td>\n",
       "      <td>0</td>\n",
       "      <td>0</td>\n",
       "      <td>0</td>\n",
       "      <td>what_causes</td>\n",
       "    </tr>\n",
       "    <tr>\n",
       "      <th>9</th>\n",
       "      <td>7</td>\n",
       "      <td>18</td>\n",
       "      <td>41</td>\n",
       "      <td>3</td>\n",
       "      <td>15</td>\n",
       "      <td>42</td>\n",
       "      <td>1</td>\n",
       "      <td>4</td>\n",
       "      <td>0</td>\n",
       "      <td>0</td>\n",
       "      <td>recover</td>\n",
       "    </tr>\n",
       "    <tr>\n",
       "      <th>11</th>\n",
       "      <td>2</td>\n",
       "      <td>16</td>\n",
       "      <td>9</td>\n",
       "      <td>47</td>\n",
       "      <td>3</td>\n",
       "      <td>48</td>\n",
       "      <td>49</td>\n",
       "      <td>50</td>\n",
       "      <td>23</td>\n",
       "      <td>22</td>\n",
       "      <td>steps</td>\n",
       "    </tr>\n",
       "    <tr>\n",
       "      <th>13</th>\n",
       "      <td>6</td>\n",
       "      <td>3</td>\n",
       "      <td>10</td>\n",
       "      <td>1</td>\n",
       "      <td>5</td>\n",
       "      <td>11</td>\n",
       "      <td>0</td>\n",
       "      <td>0</td>\n",
       "      <td>0</td>\n",
       "      <td>0</td>\n",
       "      <td>find_help</td>\n",
       "    </tr>\n",
       "    <tr>\n",
       "      <th>15</th>\n",
       "      <td>6</td>\n",
       "      <td>14</td>\n",
       "      <td>21</td>\n",
       "      <td>15</td>\n",
       "      <td>0</td>\n",
       "      <td>0</td>\n",
       "      <td>0</td>\n",
       "      <td>0</td>\n",
       "      <td>0</td>\n",
       "      <td>0</td>\n",
       "      <td>treatement_options</td>\n",
       "    </tr>\n",
       "    <tr>\n",
       "      <th>17</th>\n",
       "      <td>2</td>\n",
       "      <td>56</td>\n",
       "      <td>8</td>\n",
       "      <td>57</td>\n",
       "      <td>25</td>\n",
       "      <td>58</td>\n",
       "      <td>59</td>\n",
       "      <td>8</td>\n",
       "      <td>60</td>\n",
       "      <td>17</td>\n",
       "      <td>treatment_tips</td>\n",
       "    </tr>\n",
       "    <tr>\n",
       "      <th>19</th>\n",
       "      <td>2</td>\n",
       "      <td>16</td>\n",
       "      <td>9</td>\n",
       "      <td>63</td>\n",
       "      <td>64</td>\n",
       "      <td>23</td>\n",
       "      <td>1</td>\n",
       "      <td>5</td>\n",
       "      <td>26</td>\n",
       "      <td>65</td>\n",
       "      <td>professional_types</td>\n",
       "    </tr>\n",
       "    <tr>\n",
       "      <th>21</th>\n",
       "      <td>6</td>\n",
       "      <td>3</td>\n",
       "      <td>10</td>\n",
       "      <td>9</td>\n",
       "      <td>27</td>\n",
       "      <td>1</td>\n",
       "      <td>5</td>\n",
       "      <td>11</td>\n",
       "      <td>0</td>\n",
       "      <td>0</td>\n",
       "      <td>right_professional</td>\n",
       "    </tr>\n",
       "  </tbody>\n",
       "</table>\n",
       "</div>"
      ],
      "text/plain": [
       "     0   1   2   3   4   5   6   7   8   9              labels\n",
       "1    2   7   1   5   4   0   0   0   0   0          definition\n",
       "2   29   1   5   4   0   0   0   0   0   0          definition\n",
       "4   13   7  31  32  33   4   0   0   0   0        affects_whom\n",
       "6    2  35   3   1   4   0   0   0   0   0         what_causes\n",
       "7    6  12  21  36  37  38   0   0   0   0         what_causes\n",
       "9    7  18  41   3  15  42   1   4   0   0             recover\n",
       "11   2  16   9  47   3  48  49  50  23  22               steps\n",
       "13   6   3  10   1   5  11   0   0   0   0           find_help\n",
       "15   6  14  21  15   0   0   0   0   0   0  treatement_options\n",
       "17   2  56   8  57  25  58  59   8  60  17      treatment_tips\n",
       "19   2  16   9  63  64  23   1   5  26  65  professional_types\n",
       "21   6   3  10   9  27   1   5  11   0   0  right_professional"
      ]
     },
     "execution_count": 45,
     "metadata": {},
     "output_type": "execute_result"
    }
   ],
   "source": [
    "train"
   ]
  },
  {
   "cell_type": "code",
   "execution_count": 46,
   "metadata": {
    "id": "G2syG8OIXtsl"
   },
   "outputs": [],
   "source": [
    "X_train = train.drop(columns=['labels'],axis=1)\n",
    "y_train = train.labels\n",
    "X_test = test.drop(columns=['labels'],axis=1)\n",
    "y_test = test.labels"
   ]
  },
  {
   "cell_type": "code",
   "execution_count": 47,
   "metadata": {
    "colab": {
     "base_uri": "https://localhost:8080/",
     "height": 203
    },
    "id": "t0jjLEnErX9h",
    "outputId": "e444ff00-cc70-405f-ebdf-61fee0a57de7"
   },
   "outputs": [
    {
     "data": {
      "text/html": [
       "<div>\n",
       "<style scoped>\n",
       "    .dataframe tbody tr th:only-of-type {\n",
       "        vertical-align: middle;\n",
       "    }\n",
       "\n",
       "    .dataframe tbody tr th {\n",
       "        vertical-align: top;\n",
       "    }\n",
       "\n",
       "    .dataframe thead th {\n",
       "        text-align: right;\n",
       "    }\n",
       "</style>\n",
       "<table border=\"1\" class=\"dataframe\">\n",
       "  <thead>\n",
       "    <tr style=\"text-align: right;\">\n",
       "      <th></th>\n",
       "      <th>0</th>\n",
       "      <th>1</th>\n",
       "      <th>2</th>\n",
       "      <th>3</th>\n",
       "      <th>4</th>\n",
       "      <th>5</th>\n",
       "      <th>6</th>\n",
       "      <th>7</th>\n",
       "      <th>8</th>\n",
       "      <th>9</th>\n",
       "    </tr>\n",
       "  </thead>\n",
       "  <tbody>\n",
       "    <tr>\n",
       "      <th>1</th>\n",
       "      <td>2</td>\n",
       "      <td>7</td>\n",
       "      <td>1</td>\n",
       "      <td>5</td>\n",
       "      <td>4</td>\n",
       "      <td>0</td>\n",
       "      <td>0</td>\n",
       "      <td>0</td>\n",
       "      <td>0</td>\n",
       "      <td>0</td>\n",
       "    </tr>\n",
       "    <tr>\n",
       "      <th>2</th>\n",
       "      <td>29</td>\n",
       "      <td>1</td>\n",
       "      <td>5</td>\n",
       "      <td>4</td>\n",
       "      <td>0</td>\n",
       "      <td>0</td>\n",
       "      <td>0</td>\n",
       "      <td>0</td>\n",
       "      <td>0</td>\n",
       "      <td>0</td>\n",
       "    </tr>\n",
       "    <tr>\n",
       "      <th>4</th>\n",
       "      <td>13</td>\n",
       "      <td>7</td>\n",
       "      <td>31</td>\n",
       "      <td>32</td>\n",
       "      <td>33</td>\n",
       "      <td>4</td>\n",
       "      <td>0</td>\n",
       "      <td>0</td>\n",
       "      <td>0</td>\n",
       "      <td>0</td>\n",
       "    </tr>\n",
       "    <tr>\n",
       "      <th>6</th>\n",
       "      <td>2</td>\n",
       "      <td>35</td>\n",
       "      <td>3</td>\n",
       "      <td>1</td>\n",
       "      <td>4</td>\n",
       "      <td>0</td>\n",
       "      <td>0</td>\n",
       "      <td>0</td>\n",
       "      <td>0</td>\n",
       "      <td>0</td>\n",
       "    </tr>\n",
       "    <tr>\n",
       "      <th>7</th>\n",
       "      <td>6</td>\n",
       "      <td>12</td>\n",
       "      <td>21</td>\n",
       "      <td>36</td>\n",
       "      <td>37</td>\n",
       "      <td>38</td>\n",
       "      <td>0</td>\n",
       "      <td>0</td>\n",
       "      <td>0</td>\n",
       "      <td>0</td>\n",
       "    </tr>\n",
       "  </tbody>\n",
       "</table>\n",
       "</div>"
      ],
      "text/plain": [
       "    0   1   2   3   4   5  6  7  8  9\n",
       "1   2   7   1   5   4   0  0  0  0  0\n",
       "2  29   1   5   4   0   0  0  0  0  0\n",
       "4  13   7  31  32  33   4  0  0  0  0\n",
       "6   2  35   3   1   4   0  0  0  0  0\n",
       "7   6  12  21  36  37  38  0  0  0  0"
      ]
     },
     "execution_count": 47,
     "metadata": {},
     "output_type": "execute_result"
    }
   ],
   "source": [
    "X_train.head()"
   ]
  },
  {
   "cell_type": "code",
   "execution_count": 48,
   "metadata": {
    "id": "1cSOF7OeXtqJ"
   },
   "outputs": [],
   "source": [
    "y_train =pd.get_dummies(y_train).values\n",
    "y_test =pd.get_dummies(y_test).values"
   ]
  },
  {
   "cell_type": "code",
   "execution_count": 49,
   "metadata": {
    "colab": {
     "base_uri": "https://localhost:8080/",
     "height": 357
    },
    "id": "lG_4kPvW96KK",
    "outputId": "953e0046-fa67-4b93-8c56-af3ecde9abb5"
   },
   "outputs": [
    {
     "data": {
      "text/html": [
       "<div>\n",
       "<style scoped>\n",
       "    .dataframe tbody tr th:only-of-type {\n",
       "        vertical-align: middle;\n",
       "    }\n",
       "\n",
       "    .dataframe tbody tr th {\n",
       "        vertical-align: top;\n",
       "    }\n",
       "\n",
       "    .dataframe thead th {\n",
       "        text-align: right;\n",
       "    }\n",
       "</style>\n",
       "<table border=\"1\" class=\"dataframe\">\n",
       "  <thead>\n",
       "    <tr style=\"text-align: right;\">\n",
       "      <th></th>\n",
       "      <th>0</th>\n",
       "      <th>1</th>\n",
       "      <th>2</th>\n",
       "      <th>3</th>\n",
       "      <th>4</th>\n",
       "      <th>5</th>\n",
       "      <th>6</th>\n",
       "      <th>7</th>\n",
       "      <th>8</th>\n",
       "      <th>9</th>\n",
       "    </tr>\n",
       "  </thead>\n",
       "  <tbody>\n",
       "    <tr>\n",
       "      <th>3</th>\n",
       "      <td>13</td>\n",
       "      <td>12</td>\n",
       "      <td>1</td>\n",
       "      <td>4</td>\n",
       "      <td>30</td>\n",
       "      <td>0</td>\n",
       "      <td>0</td>\n",
       "      <td>0</td>\n",
       "      <td>0</td>\n",
       "      <td>0</td>\n",
       "    </tr>\n",
       "    <tr>\n",
       "      <th>0</th>\n",
       "      <td>2</td>\n",
       "      <td>12</td>\n",
       "      <td>18</td>\n",
       "      <td>28</td>\n",
       "      <td>3</td>\n",
       "      <td>19</td>\n",
       "      <td>20</td>\n",
       "      <td>1</td>\n",
       "      <td>4</td>\n",
       "      <td>0</td>\n",
       "    </tr>\n",
       "    <tr>\n",
       "      <th>12</th>\n",
       "      <td>6</td>\n",
       "      <td>3</td>\n",
       "      <td>10</td>\n",
       "      <td>1</td>\n",
       "      <td>5</td>\n",
       "      <td>11</td>\n",
       "      <td>51</td>\n",
       "      <td>24</td>\n",
       "      <td>0</td>\n",
       "      <td>0</td>\n",
       "    </tr>\n",
       "    <tr>\n",
       "      <th>18</th>\n",
       "      <td>2</td>\n",
       "      <td>7</td>\n",
       "      <td>9</td>\n",
       "      <td>61</td>\n",
       "      <td>62</td>\n",
       "      <td>1</td>\n",
       "      <td>5</td>\n",
       "      <td>26</td>\n",
       "      <td>0</td>\n",
       "      <td>0</td>\n",
       "    </tr>\n",
       "    <tr>\n",
       "      <th>8</th>\n",
       "      <td>14</td>\n",
       "      <td>39</td>\n",
       "      <td>40</td>\n",
       "      <td>1</td>\n",
       "      <td>4</td>\n",
       "      <td>15</td>\n",
       "      <td>0</td>\n",
       "      <td>0</td>\n",
       "      <td>0</td>\n",
       "      <td>0</td>\n",
       "    </tr>\n",
       "    <tr>\n",
       "      <th>20</th>\n",
       "      <td>6</td>\n",
       "      <td>14</td>\n",
       "      <td>8</td>\n",
       "      <td>10</td>\n",
       "      <td>20</td>\n",
       "      <td>1</td>\n",
       "      <td>5</td>\n",
       "      <td>11</td>\n",
       "      <td>27</td>\n",
       "      <td>24</td>\n",
       "    </tr>\n",
       "    <tr>\n",
       "      <th>10</th>\n",
       "      <td>8</td>\n",
       "      <td>43</td>\n",
       "      <td>44</td>\n",
       "      <td>13</td>\n",
       "      <td>45</td>\n",
       "      <td>3</td>\n",
       "      <td>19</td>\n",
       "      <td>46</td>\n",
       "      <td>22</td>\n",
       "      <td>0</td>\n",
       "    </tr>\n",
       "    <tr>\n",
       "      <th>14</th>\n",
       "      <td>2</td>\n",
       "      <td>17</td>\n",
       "      <td>52</td>\n",
       "      <td>16</td>\n",
       "      <td>53</td>\n",
       "      <td>0</td>\n",
       "      <td>0</td>\n",
       "      <td>0</td>\n",
       "      <td>0</td>\n",
       "      <td>0</td>\n",
       "    </tr>\n",
       "    <tr>\n",
       "      <th>16</th>\n",
       "      <td>6</td>\n",
       "      <td>3</td>\n",
       "      <td>54</td>\n",
       "      <td>55</td>\n",
       "      <td>25</td>\n",
       "      <td>17</td>\n",
       "      <td>0</td>\n",
       "      <td>0</td>\n",
       "      <td>0</td>\n",
       "      <td>0</td>\n",
       "    </tr>\n",
       "    <tr>\n",
       "      <th>5</th>\n",
       "      <td>2</td>\n",
       "      <td>34</td>\n",
       "      <td>1</td>\n",
       "      <td>4</td>\n",
       "      <td>0</td>\n",
       "      <td>0</td>\n",
       "      <td>0</td>\n",
       "      <td>0</td>\n",
       "      <td>0</td>\n",
       "      <td>0</td>\n",
       "    </tr>\n",
       "  </tbody>\n",
       "</table>\n",
       "</div>"
      ],
      "text/plain": [
       "     0   1   2   3   4   5   6   7   8   9\n",
       "3   13  12   1   4  30   0   0   0   0   0\n",
       "0    2  12  18  28   3  19  20   1   4   0\n",
       "12   6   3  10   1   5  11  51  24   0   0\n",
       "18   2   7   9  61  62   1   5  26   0   0\n",
       "8   14  39  40   1   4  15   0   0   0   0\n",
       "20   6  14   8  10  20   1   5  11  27  24\n",
       "10   8  43  44  13  45   3  19  46  22   0\n",
       "14   2  17  52  16  53   0   0   0   0   0\n",
       "16   6   3  54  55  25  17   0   0   0   0\n",
       "5    2  34   1   4   0   0   0   0   0   0"
      ]
     },
     "execution_count": 49,
     "metadata": {},
     "output_type": "execute_result"
    }
   ],
   "source": [
    "X_test"
   ]
  },
  {
   "cell_type": "code",
   "execution_count": 50,
   "metadata": {
    "colab": {
     "base_uri": "https://localhost:8080/",
     "height": 418
    },
    "id": "bZyNYXsjfY2y",
    "outputId": "6e462b54-5e0c-45d6-a911-e361be113c6c"
   },
   "outputs": [
    {
     "data": {
      "text/html": [
       "<div>\n",
       "<style scoped>\n",
       "    .dataframe tbody tr th:only-of-type {\n",
       "        vertical-align: middle;\n",
       "    }\n",
       "\n",
       "    .dataframe tbody tr th {\n",
       "        vertical-align: top;\n",
       "    }\n",
       "\n",
       "    .dataframe thead th {\n",
       "        text-align: right;\n",
       "    }\n",
       "</style>\n",
       "<table border=\"1\" class=\"dataframe\">\n",
       "  <thead>\n",
       "    <tr style=\"text-align: right;\">\n",
       "      <th></th>\n",
       "      <th>0</th>\n",
       "      <th>1</th>\n",
       "      <th>2</th>\n",
       "      <th>3</th>\n",
       "      <th>4</th>\n",
       "      <th>5</th>\n",
       "      <th>6</th>\n",
       "      <th>7</th>\n",
       "      <th>8</th>\n",
       "      <th>9</th>\n",
       "    </tr>\n",
       "  </thead>\n",
       "  <tbody>\n",
       "    <tr>\n",
       "      <th>1</th>\n",
       "      <td>2</td>\n",
       "      <td>7</td>\n",
       "      <td>1</td>\n",
       "      <td>5</td>\n",
       "      <td>4</td>\n",
       "      <td>0</td>\n",
       "      <td>0</td>\n",
       "      <td>0</td>\n",
       "      <td>0</td>\n",
       "      <td>0</td>\n",
       "    </tr>\n",
       "    <tr>\n",
       "      <th>2</th>\n",
       "      <td>29</td>\n",
       "      <td>1</td>\n",
       "      <td>5</td>\n",
       "      <td>4</td>\n",
       "      <td>0</td>\n",
       "      <td>0</td>\n",
       "      <td>0</td>\n",
       "      <td>0</td>\n",
       "      <td>0</td>\n",
       "      <td>0</td>\n",
       "    </tr>\n",
       "    <tr>\n",
       "      <th>4</th>\n",
       "      <td>13</td>\n",
       "      <td>7</td>\n",
       "      <td>31</td>\n",
       "      <td>32</td>\n",
       "      <td>33</td>\n",
       "      <td>4</td>\n",
       "      <td>0</td>\n",
       "      <td>0</td>\n",
       "      <td>0</td>\n",
       "      <td>0</td>\n",
       "    </tr>\n",
       "    <tr>\n",
       "      <th>6</th>\n",
       "      <td>2</td>\n",
       "      <td>35</td>\n",
       "      <td>3</td>\n",
       "      <td>1</td>\n",
       "      <td>4</td>\n",
       "      <td>0</td>\n",
       "      <td>0</td>\n",
       "      <td>0</td>\n",
       "      <td>0</td>\n",
       "      <td>0</td>\n",
       "    </tr>\n",
       "    <tr>\n",
       "      <th>7</th>\n",
       "      <td>6</td>\n",
       "      <td>12</td>\n",
       "      <td>21</td>\n",
       "      <td>36</td>\n",
       "      <td>37</td>\n",
       "      <td>38</td>\n",
       "      <td>0</td>\n",
       "      <td>0</td>\n",
       "      <td>0</td>\n",
       "      <td>0</td>\n",
       "    </tr>\n",
       "    <tr>\n",
       "      <th>9</th>\n",
       "      <td>7</td>\n",
       "      <td>18</td>\n",
       "      <td>41</td>\n",
       "      <td>3</td>\n",
       "      <td>15</td>\n",
       "      <td>42</td>\n",
       "      <td>1</td>\n",
       "      <td>4</td>\n",
       "      <td>0</td>\n",
       "      <td>0</td>\n",
       "    </tr>\n",
       "    <tr>\n",
       "      <th>11</th>\n",
       "      <td>2</td>\n",
       "      <td>16</td>\n",
       "      <td>9</td>\n",
       "      <td>47</td>\n",
       "      <td>3</td>\n",
       "      <td>48</td>\n",
       "      <td>49</td>\n",
       "      <td>50</td>\n",
       "      <td>23</td>\n",
       "      <td>22</td>\n",
       "    </tr>\n",
       "    <tr>\n",
       "      <th>13</th>\n",
       "      <td>6</td>\n",
       "      <td>3</td>\n",
       "      <td>10</td>\n",
       "      <td>1</td>\n",
       "      <td>5</td>\n",
       "      <td>11</td>\n",
       "      <td>0</td>\n",
       "      <td>0</td>\n",
       "      <td>0</td>\n",
       "      <td>0</td>\n",
       "    </tr>\n",
       "    <tr>\n",
       "      <th>15</th>\n",
       "      <td>6</td>\n",
       "      <td>14</td>\n",
       "      <td>21</td>\n",
       "      <td>15</td>\n",
       "      <td>0</td>\n",
       "      <td>0</td>\n",
       "      <td>0</td>\n",
       "      <td>0</td>\n",
       "      <td>0</td>\n",
       "      <td>0</td>\n",
       "    </tr>\n",
       "    <tr>\n",
       "      <th>17</th>\n",
       "      <td>2</td>\n",
       "      <td>56</td>\n",
       "      <td>8</td>\n",
       "      <td>57</td>\n",
       "      <td>25</td>\n",
       "      <td>58</td>\n",
       "      <td>59</td>\n",
       "      <td>8</td>\n",
       "      <td>60</td>\n",
       "      <td>17</td>\n",
       "    </tr>\n",
       "    <tr>\n",
       "      <th>19</th>\n",
       "      <td>2</td>\n",
       "      <td>16</td>\n",
       "      <td>9</td>\n",
       "      <td>63</td>\n",
       "      <td>64</td>\n",
       "      <td>23</td>\n",
       "      <td>1</td>\n",
       "      <td>5</td>\n",
       "      <td>26</td>\n",
       "      <td>65</td>\n",
       "    </tr>\n",
       "    <tr>\n",
       "      <th>21</th>\n",
       "      <td>6</td>\n",
       "      <td>3</td>\n",
       "      <td>10</td>\n",
       "      <td>9</td>\n",
       "      <td>27</td>\n",
       "      <td>1</td>\n",
       "      <td>5</td>\n",
       "      <td>11</td>\n",
       "      <td>0</td>\n",
       "      <td>0</td>\n",
       "    </tr>\n",
       "  </tbody>\n",
       "</table>\n",
       "</div>"
      ],
      "text/plain": [
       "     0   1   2   3   4   5   6   7   8   9\n",
       "1    2   7   1   5   4   0   0   0   0   0\n",
       "2   29   1   5   4   0   0   0   0   0   0\n",
       "4   13   7  31  32  33   4   0   0   0   0\n",
       "6    2  35   3   1   4   0   0   0   0   0\n",
       "7    6  12  21  36  37  38   0   0   0   0\n",
       "9    7  18  41   3  15  42   1   4   0   0\n",
       "11   2  16   9  47   3  48  49  50  23  22\n",
       "13   6   3  10   1   5  11   0   0   0   0\n",
       "15   6  14  21  15   0   0   0   0   0   0\n",
       "17   2  56   8  57  25  58  59   8  60  17\n",
       "19   2  16   9  63  64  23   1   5  26  65\n",
       "21   6   3  10   9  27   1   5  11   0   0"
      ]
     },
     "execution_count": 50,
     "metadata": {},
     "output_type": "execute_result"
    }
   ],
   "source": [
    "X_train"
   ]
  },
  {
   "cell_type": "code",
   "execution_count": 51,
   "metadata": {
    "colab": {
     "base_uri": "https://localhost:8080/"
    },
    "id": "wWFWgav5B-pH",
    "outputId": "cb4ed15f-5382-476e-a2f8-cf55f306ae84"
   },
   "outputs": [
    {
     "data": {
      "text/plain": [
       "array([[0, 1, 0, 0, 0, 0, 0, 0, 0, 0],\n",
       "       [0, 1, 0, 0, 0, 0, 0, 0, 0, 0],\n",
       "       [1, 0, 0, 0, 0, 0, 0, 0, 0, 0],\n",
       "       [0, 0, 0, 0, 0, 0, 0, 0, 0, 1],\n",
       "       [0, 0, 0, 0, 0, 0, 0, 0, 0, 1],\n",
       "       [0, 0, 0, 0, 1, 0, 0, 0, 0, 0],\n",
       "       [0, 0, 0, 0, 0, 0, 1, 0, 0, 0],\n",
       "       [0, 0, 1, 0, 0, 0, 0, 0, 0, 0],\n",
       "       [0, 0, 0, 0, 0, 0, 0, 1, 0, 0],\n",
       "       [0, 0, 0, 0, 0, 0, 0, 0, 1, 0],\n",
       "       [0, 0, 0, 1, 0, 0, 0, 0, 0, 0],\n",
       "       [0, 0, 0, 0, 0, 1, 0, 0, 0, 0]], dtype=uint8)"
      ]
     },
     "execution_count": 51,
     "metadata": {},
     "output_type": "execute_result"
    }
   ],
   "source": [
    "y_train"
   ]
  },
  {
   "cell_type": "code",
   "execution_count": 52,
   "metadata": {
    "colab": {
     "base_uri": "https://localhost:8080/"
    },
    "id": "xvhKy5u6mM0k",
    "outputId": "2c3889ca-337e-4cad-be92-984234f8ed31"
   },
   "outputs": [
    {
     "data": {
      "text/plain": [
       "array([0, 1, 0, 0, 0, 0, 0, 0, 0, 0], dtype=uint8)"
      ]
     },
     "execution_count": 52,
     "metadata": {},
     "output_type": "execute_result"
    }
   ],
   "source": [
    "y_train[0]"
   ]
  },
  {
   "cell_type": "code",
   "execution_count": 53,
   "metadata": {
    "colab": {
     "base_uri": "https://localhost:8080/"
    },
    "id": "pPZDWFkBmOdx",
    "outputId": "5ae5e495-7ca3-4f7c-8ed7-4d6af7a3413b"
   },
   "outputs": [
    {
     "data": {
      "text/plain": [
       "array([[1, 0, 0, 0, 0, 0, 0, 0, 0, 0],\n",
       "       [0, 1, 0, 0, 0, 0, 0, 0, 0, 0],\n",
       "       [0, 0, 1, 0, 0, 0, 0, 0, 0, 0],\n",
       "       [0, 0, 0, 1, 0, 0, 0, 0, 0, 0],\n",
       "       [0, 0, 0, 0, 1, 0, 0, 0, 0, 0],\n",
       "       [0, 0, 0, 0, 0, 1, 0, 0, 0, 0],\n",
       "       [0, 0, 0, 0, 0, 0, 1, 0, 0, 0],\n",
       "       [0, 0, 0, 0, 0, 0, 0, 1, 0, 0],\n",
       "       [0, 0, 0, 0, 0, 0, 0, 0, 1, 0],\n",
       "       [0, 0, 0, 0, 0, 0, 0, 0, 0, 1]], dtype=uint8)"
      ]
     },
     "execution_count": 53,
     "metadata": {},
     "output_type": "execute_result"
    }
   ],
   "source": [
    "y_test"
   ]
  },
  {
   "cell_type": "code",
   "execution_count": 54,
   "metadata": {
    "colab": {
     "base_uri": "https://localhost:8080/"
    },
    "id": "X_urYiDyXtn5",
    "outputId": "bd674f43-900b-410a-d670-309243eac8ae"
   },
   "outputs": [
    {
     "data": {
      "text/plain": [
       "((10,), (10,))"
      ]
     },
     "execution_count": 54,
     "metadata": {},
     "output_type": "execute_result"
    }
   ],
   "source": [
    "y_train[0].shape,y_test[0].shape"
   ]
  },
  {
   "cell_type": "code",
   "execution_count": 55,
   "metadata": {
    "colab": {
     "base_uri": "https://localhost:8080/"
    },
    "id": "0jMrfnwKX1DC",
    "outputId": "832af3f7-4495-4c08-b90c-c97eff02dabf"
   },
   "outputs": [
    {
     "data": {
      "text/plain": [
       "(12, 10)"
      ]
     },
     "execution_count": 55,
     "metadata": {},
     "output_type": "execute_result"
    }
   ],
   "source": [
    "X_train.shape"
   ]
  },
  {
   "cell_type": "code",
   "execution_count": 56,
   "metadata": {
    "colab": {
     "base_uri": "https://localhost:8080/"
    },
    "id": "Yf1it_OmmurY",
    "outputId": "d3e15ac4-58c1-4ce6-d228-7b380c988c78"
   },
   "outputs": [
    {
     "data": {
      "text/plain": [
       "(10, 10)"
      ]
     },
     "execution_count": 56,
     "metadata": {},
     "output_type": "execute_result"
    }
   ],
   "source": [
    "X_test.shape"
   ]
  },
  {
   "cell_type": "code",
   "execution_count": 57,
   "metadata": {
    "id": "fJHi-DiIX0_D"
   },
   "outputs": [],
   "source": [
    "max_length = X_train.shape[1]\n",
    "output = 16                  # no of classes"
   ]
  },
  {
   "cell_type": "code",
   "execution_count": 58,
   "metadata": {
    "id": "QtCFWykAX08b"
   },
   "outputs": [],
   "source": [
    "early_stopping = EarlyStopping(monitor='val_loss',patience=10) #patience : number of epochs with no improvement after which training will be stopped\n",
    "\n",
    "checkpoint = ModelCheckpoint(\"model-v1.h5\",\n",
    "                             monitor=\"val_loss\",\n",
    "                             mode=\"min\",\n",
    "                             save_best_only = True,\n",
    "                             verbose=1)\n",
    "\n",
    "reduce_lr = ReduceLROnPlateau(monitor = 'val_loss', factor = 0.2, patience = 3, verbose = 1, min_delta = 0.0001)\n",
    "\n",
    "callbacks = [early_stopping,checkpoint,reduce_lr]"
   ]
  },
  {
   "cell_type": "markdown",
   "metadata": {
    "id": "5zfZy2tABMkl"
   },
   "source": [
    "## Vanilla RNN"
   ]
  },
  {
   "cell_type": "code",
   "execution_count": 59,
   "metadata": {
    "id": "AOvE1ucyMcUZ"
   },
   "outputs": [],
   "source": [
    "def define_model1(vocab_size, max_length):\n",
    "    model1 = Sequential()\n",
    "    model1.add(Embedding(vocab_size,100, input_length=max_length))\n",
    "    model1.add(SimpleRNN(100))\n",
    "    model1.add(Dense(10, activation='softmax'))   \n",
    "    \n",
    "    model1.compile(loss = 'categorical_crossentropy',optimizer = 'adam',metrics = ['accuracy'])\n",
    "    \n",
    "    # summarize defined model\n",
    "    model1.summary()\n",
    "    plot_model(model1, to_file='model_1.png', show_shapes=True)\n",
    "    return model1"
   ]
  },
  {
   "cell_type": "code",
   "execution_count": 60,
   "metadata": {
    "colab": {
     "base_uri": "https://localhost:8080/"
    },
    "id": "Toir2G_NNEsX",
    "outputId": "98112820-925a-41a4-eea9-28ac0da91f8d"
   },
   "outputs": [
    {
     "name": "stdout",
     "output_type": "stream",
     "text": [
      "Model: \"sequential\"\n",
      "_________________________________________________________________\n",
      " Layer (type)                Output Shape              Param #   \n",
      "=================================================================\n",
      " embedding (Embedding)       (None, 10, 100)           6600      \n",
      "                                                                 \n",
      " simple_rnn (SimpleRNN)      (None, 100)               20100     \n",
      "                                                                 \n",
      " dense (Dense)               (None, 10)                1010      \n",
      "                                                                 \n",
      "=================================================================\n",
      "Total params: 27,710\n",
      "Trainable params: 27,710\n",
      "Non-trainable params: 0\n",
      "_________________________________________________________________\n",
      "You must install pydot (`pip install pydot`) and install graphviz (see instructions at https://graphviz.gitlab.io/download/) for plot_model to work.\n"
     ]
    }
   ],
   "source": [
    "model1 = define_model1(vocab_size, max_length)"
   ]
  },
  {
   "cell_type": "code",
   "execution_count": 61,
   "metadata": {
    "colab": {
     "base_uri": "https://localhost:8080/"
    },
    "id": "pTFpfCkUNEpg",
    "outputId": "9191868b-6612-4c08-c99b-1babf28333bb"
   },
   "outputs": [
    {
     "name": "stdout",
     "output_type": "stream",
     "text": [
      "Epoch 1/10\n",
      "1/1 [==============================] - ETA: 0s - loss: 2.3056 - accuracy: 0.0833\n",
      "Epoch 1: val_loss improved from inf to 2.23138, saving model to model-v1.h5\n",
      "1/1 [==============================] - 2s 2s/step - loss: 2.3056 - accuracy: 0.0833 - val_loss: 2.2314 - val_accuracy: 0.0000e+00 - lr: 0.0010\n",
      "Epoch 2/10\n",
      "1/1 [==============================] - ETA: 0s - loss: 2.1747 - accuracy: 0.3333\n",
      "Epoch 2: val_loss improved from 2.23138 to 2.21657, saving model to model-v1.h5\n",
      "1/1 [==============================] - 0s 93ms/step - loss: 2.1747 - accuracy: 0.3333 - val_loss: 2.2166 - val_accuracy: 0.2000 - lr: 0.0010\n",
      "Epoch 3/10\n",
      "1/1 [==============================] - ETA: 0s - loss: 2.0463 - accuracy: 0.5833\n",
      "Epoch 3: val_loss improved from 2.21657 to 2.20271, saving model to model-v1.h5\n",
      "1/1 [==============================] - 0s 138ms/step - loss: 2.0463 - accuracy: 0.5833 - val_loss: 2.2027 - val_accuracy: 0.2000 - lr: 0.0010\n",
      "Epoch 4/10\n",
      "1/1 [==============================] - ETA: 0s - loss: 1.9188 - accuracy: 0.8333\n",
      "Epoch 4: val_loss improved from 2.20271 to 2.18994, saving model to model-v1.h5\n",
      "1/1 [==============================] - 0s 124ms/step - loss: 1.9188 - accuracy: 0.8333 - val_loss: 2.1899 - val_accuracy: 0.2000 - lr: 0.0010\n",
      "Epoch 5/10\n",
      "1/1 [==============================] - ETA: 0s - loss: 1.7907 - accuracy: 0.8333\n",
      "Epoch 5: val_loss improved from 2.18994 to 2.17850, saving model to model-v1.h5\n",
      "1/1 [==============================] - 0s 134ms/step - loss: 1.7907 - accuracy: 0.8333 - val_loss: 2.1785 - val_accuracy: 0.1000 - lr: 0.0010\n",
      "Epoch 6/10\n",
      "1/1 [==============================] - ETA: 0s - loss: 1.6614 - accuracy: 0.9167\n",
      "Epoch 6: val_loss improved from 2.17850 to 2.16820, saving model to model-v1.h5\n",
      "1/1 [==============================] - 0s 114ms/step - loss: 1.6614 - accuracy: 0.9167 - val_loss: 2.1682 - val_accuracy: 0.2000 - lr: 0.0010\n",
      "Epoch 7/10\n",
      "1/1 [==============================] - ETA: 0s - loss: 1.5302 - accuracy: 1.0000\n",
      "Epoch 7: val_loss improved from 2.16820 to 2.15828, saving model to model-v1.h5\n",
      "1/1 [==============================] - 0s 145ms/step - loss: 1.5302 - accuracy: 1.0000 - val_loss: 2.1583 - val_accuracy: 0.2000 - lr: 0.0010\n",
      "Epoch 8/10\n",
      "1/1 [==============================] - ETA: 0s - loss: 1.3964 - accuracy: 1.0000\n",
      "Epoch 8: val_loss improved from 2.15828 to 2.14780, saving model to model-v1.h5\n",
      "1/1 [==============================] - 0s 103ms/step - loss: 1.3964 - accuracy: 1.0000 - val_loss: 2.1478 - val_accuracy: 0.2000 - lr: 0.0010\n",
      "Epoch 9/10\n",
      "1/1 [==============================] - ETA: 0s - loss: 1.2594 - accuracy: 1.0000\n",
      "Epoch 9: val_loss improved from 2.14780 to 2.13625, saving model to model-v1.h5\n",
      "1/1 [==============================] - 0s 141ms/step - loss: 1.2594 - accuracy: 1.0000 - val_loss: 2.1362 - val_accuracy: 0.2000 - lr: 0.0010\n",
      "Epoch 10/10\n",
      "1/1 [==============================] - ETA: 0s - loss: 1.1196 - accuracy: 1.0000\n",
      "Epoch 10: val_loss improved from 2.13625 to 2.12394, saving model to model-v1.h5\n",
      "1/1 [==============================] - 0s 90ms/step - loss: 1.1196 - accuracy: 1.0000 - val_loss: 2.1239 - val_accuracy: 0.2000 - lr: 0.0010\n"
     ]
    }
   ],
   "source": [
    "history1 = model1.fit(X_train, y_train, epochs=10, verbose=1,validation_data=(X_test,y_test),callbacks=callbacks)#,callbacks=callbacks)"
   ]
  },
  {
   "cell_type": "code",
   "execution_count": 62,
   "metadata": {
    "colab": {
     "base_uri": "https://localhost:8080/",
     "height": 513
    },
    "id": "k0I_FjV6mDQR",
    "outputId": "647955ed-729d-432f-b78f-52d08bf8798d"
   },
   "outputs": [
    {
     "data": {
      "image/png": "[encoded data removed]",
      "text/plain": [
       "<Figure size 1152x576 with 2 Axes>"
      ]
     },
     "metadata": {
      "needs_background": "light"
     },
     "output_type": "display_data"
    }
   ],
   "source": [
    "# Learning curves \n",
    "\n",
    "acc = history1.history['accuracy']\n",
    "val_acc = history1.history['val_accuracy']\n",
    "loss=history1.history['loss']\n",
    "val_loss=history1.history['val_loss']\n",
    "\n",
    "plt.figure(figsize=(16,8))\n",
    "plt.subplot(1, 2, 1)\n",
    "plt.plot(acc, label='Training Accuracy')\n",
    "plt.plot(val_acc, label='Validation Accuracy')\n",
    "plt.legend(loc='lower right')\n",
    "plt.title('Training and Validation Accuracy')\n",
    "plt.xlabel(\"epochs\")\n",
    "plt.ylabel(\"accuracy\")\n",
    "\n",
    "plt.subplot(1, 2, 2)\n",
    "plt.plot(loss, label='Training Loss')\n",
    "plt.plot(val_loss, label='Validation Loss')\n",
    "plt.legend(loc='upper right')\n",
    "plt.title('Training and Validation Loss')\n",
    "plt.xlabel(\"epochs\")\n",
    "plt.ylabel(\"loss\")\n",
    "plt.show()"
   ]
  },
  {
   "cell_type": "markdown",
   "metadata": {
    "id": "mdIDkqyABJbr"
   },
   "source": [
    "## CNN"
   ]
  },
  {
   "cell_type": "code",
   "execution_count": 63,
   "metadata": {
    "id": "0sR_Z8kDX8VD"
   },
   "outputs": [],
   "source": [
    "def define_model2(vocab_size, max_length):\n",
    "    model2 = Sequential()\n",
    "    model2.add(Embedding(vocab_size,300, input_length=max_length))\n",
    "    model2.add(Conv1D(filters=32, kernel_size=2, activation='relu'))\n",
    "    model2.add(MaxPooling1D(pool_size = 4))\n",
    "    model2.add(Flatten())\n",
    "    model2.add(Dense(32, activation='relu'))\n",
    "    model2.add(Dense(10, activation='softmax'))\n",
    "    \n",
    "    model2.compile(loss = 'categorical_crossentropy',optimizer = 'adam',metrics = ['accuracy'])\n",
    "    \n",
    "    # summarize defined model\n",
    "    model2.summary()\n",
    "    return model2"
   ]
  },
  {
   "cell_type": "code",
   "execution_count": 64,
   "metadata": {
    "colab": {
     "base_uri": "https://localhost:8080/"
    },
    "id": "n1ePmE7PX8R0",
    "outputId": "94070aba-3771-4325-e72a-27f8f9475f7d",
    "scrolled": true
   },
   "outputs": [
    {
     "name": "stdout",
     "output_type": "stream",
     "text": [
      "Model: \"sequential_1\"\n",
      "_________________________________________________________________\n",
      " Layer (type)                Output Shape              Param #   \n",
      "=================================================================\n",
      " embedding_1 (Embedding)     (None, 10, 300)           19800     \n",
      "                                                                 \n",
      " conv1d (Conv1D)             (None, 9, 32)             19232     \n",
      "                                                                 \n",
      " max_pooling1d (MaxPooling1D  (None, 2, 32)            0         \n",
      " )                                                               \n",
      "                                                                 \n",
      " flatten (Flatten)           (None, 64)                0         \n",
      "                                                                 \n",
      " dense_1 (Dense)             (None, 32)                2080      \n",
      "                                                                 \n",
      " dense_2 (Dense)             (None, 10)                330       \n",
      "                                                                 \n",
      "=================================================================\n",
      "Total params: 41,442\n",
      "Trainable params: 41,442\n",
      "Non-trainable params: 0\n",
      "_________________________________________________________________\n"
     ]
    }
   ],
   "source": [
    "model2 = define_model2(vocab_size, max_length)"
   ]
  },
  {
   "cell_type": "code",
   "execution_count": 65,
   "metadata": {
    "colab": {
     "base_uri": "https://localhost:8080/"
    },
    "id": "CnC_x02JX8Pd",
    "outputId": "93ae2b41-a447-4a9d-fa8b-952ceea4b9f6"
   },
   "outputs": [
    {
     "name": "stdout",
     "output_type": "stream",
     "text": [
      "Epoch 1/15\n",
      "1/1 [==============================] - ETA: 0s - loss: 2.3018 - accuracy: 0.0833\n",
      "Epoch 1: val_loss did not improve from 2.12394\n",
      "1/1 [==============================] - 1s 1s/step - loss: 2.3018 - accuracy: 0.0833 - val_loss: 2.3054 - val_accuracy: 0.1000 - lr: 0.0010\n",
      "Epoch 2/15\n",
      "1/1 [==============================] - ETA: 0s - loss: 2.2637 - accuracy: 0.4167\n",
      "Epoch 2: val_loss did not improve from 2.12394\n",
      "1/1 [==============================] - 0s 46ms/step - loss: 2.2637 - accuracy: 0.4167 - val_loss: 2.3030 - val_accuracy: 0.2000 - lr: 0.0010\n",
      "Epoch 3/15\n",
      "1/1 [==============================] - ETA: 0s - loss: 2.2315 - accuracy: 0.5000\n",
      "Epoch 3: val_loss did not improve from 2.12394\n",
      "1/1 [==============================] - 0s 51ms/step - loss: 2.2315 - accuracy: 0.5000 - val_loss: 2.3000 - val_accuracy: 0.1000 - lr: 0.0010\n",
      "Epoch 4/15\n",
      "1/1 [==============================] - ETA: 0s - loss: 2.2009 - accuracy: 0.5833\n",
      "Epoch 4: val_loss did not improve from 2.12394\n",
      "1/1 [==============================] - 0s 35ms/step - loss: 2.2009 - accuracy: 0.5833 - val_loss: 2.2977 - val_accuracy: 0.1000 - lr: 0.0010\n",
      "Epoch 5/15\n",
      "1/1 [==============================] - ETA: 0s - loss: 2.1707 - accuracy: 0.5833\n",
      "Epoch 5: val_loss did not improve from 2.12394\n",
      "1/1 [==============================] - 0s 35ms/step - loss: 2.1707 - accuracy: 0.5833 - val_loss: 2.2964 - val_accuracy: 0.1000 - lr: 0.0010\n",
      "Epoch 6/15\n",
      "1/1 [==============================] - ETA: 0s - loss: 2.1397 - accuracy: 0.6667\n",
      "Epoch 6: val_loss did not improve from 2.12394\n",
      "1/1 [==============================] - 0s 36ms/step - loss: 2.1397 - accuracy: 0.6667 - val_loss: 2.2946 - val_accuracy: 0.1000 - lr: 0.0010\n",
      "Epoch 7/15\n",
      "1/1 [==============================] - ETA: 0s - loss: 2.1089 - accuracy: 0.7500\n",
      "Epoch 7: val_loss did not improve from 2.12394\n",
      "1/1 [==============================] - 0s 51ms/step - loss: 2.1089 - accuracy: 0.7500 - val_loss: 2.2928 - val_accuracy: 0.1000 - lr: 0.0010\n",
      "Epoch 8/15\n",
      "1/1 [==============================] - ETA: 0s - loss: 2.0775 - accuracy: 0.7500\n",
      "Epoch 8: val_loss did not improve from 2.12394\n",
      "1/1 [==============================] - 0s 36ms/step - loss: 2.0775 - accuracy: 0.7500 - val_loss: 2.2917 - val_accuracy: 0.1000 - lr: 0.0010\n",
      "Epoch 9/15\n",
      "1/1 [==============================] - ETA: 0s - loss: 2.0445 - accuracy: 0.7500\n",
      "Epoch 9: val_loss did not improve from 2.12394\n",
      "1/1 [==============================] - 0s 41ms/step - loss: 2.0445 - accuracy: 0.7500 - val_loss: 2.2911 - val_accuracy: 0.1000 - lr: 0.0010\n",
      "Epoch 10/15\n",
      "1/1 [==============================] - ETA: 0s - loss: 2.0105 - accuracy: 0.7500\n",
      "Epoch 10: val_loss did not improve from 2.12394\n",
      "1/1 [==============================] - 0s 36ms/step - loss: 2.0105 - accuracy: 0.7500 - val_loss: 2.2914 - val_accuracy: 0.1000 - lr: 0.0010\n",
      "Epoch 11/15\n",
      "1/1 [==============================] - ETA: 0s - loss: 1.9752 - accuracy: 0.6667\n",
      "Epoch 11: val_loss did not improve from 2.12394\n",
      "1/1 [==============================] - 0s 39ms/step - loss: 1.9752 - accuracy: 0.6667 - val_loss: 2.2919 - val_accuracy: 0.1000 - lr: 0.0010\n",
      "Epoch 12/15\n",
      "1/1 [==============================] - ETA: 0s - loss: 1.9390 - accuracy: 0.7500\n",
      "Epoch 12: val_loss did not improve from 2.12394\n",
      "\n",
      "Epoch 12: ReduceLROnPlateau reducing learning rate to 0.00020000000949949026.\n",
      "1/1 [==============================] - 0s 40ms/step - loss: 1.9390 - accuracy: 0.7500 - val_loss: 2.2921 - val_accuracy: 0.1000 - lr: 0.0010\n",
      "Epoch 13/15\n",
      "1/1 [==============================] - ETA: 0s - loss: 1.9011 - accuracy: 0.7500\n",
      "Epoch 13: val_loss did not improve from 2.12394\n",
      "1/1 [==============================] - 0s 41ms/step - loss: 1.9011 - accuracy: 0.7500 - val_loss: 2.2920 - val_accuracy: 0.1000 - lr: 2.0000e-04\n",
      "Epoch 14/15\n",
      "1/1 [==============================] - ETA: 0s - loss: 1.8932 - accuracy: 0.7500\n",
      "Epoch 14: val_loss did not improve from 2.12394\n",
      "1/1 [==============================] - 0s 59ms/step - loss: 1.8932 - accuracy: 0.7500 - val_loss: 2.2918 - val_accuracy: 0.1000 - lr: 2.0000e-04\n",
      "Epoch 15/15\n",
      "1/1 [==============================] - ETA: 0s - loss: 1.8850 - accuracy: 0.7500\n",
      "Epoch 15: val_loss did not improve from 2.12394\n",
      "\n",
      "Epoch 15: ReduceLROnPlateau reducing learning rate to 4.0000001899898055e-05.\n",
      "1/1 [==============================] - 0s 56ms/step - loss: 1.8850 - accuracy: 0.7500 - val_loss: 2.2915 - val_accuracy: 0.1000 - lr: 2.0000e-04\n"
     ]
    }
   ],
   "source": [
    "history = model2.fit(X_train, y_train, epochs=15, verbose=1,validation_data=(X_test,y_test),callbacks=callbacks)"
   ]
  },
  {
   "cell_type": "code",
   "execution_count": 66,
   "metadata": {
    "colab": {
     "base_uri": "https://localhost:8080/",
     "height": 513
    },
    "id": "SMNZHhfqYEQ9",
    "outputId": "0c81da43-c58a-419d-b477-9afb5cb5c262"
   },
   "outputs": [
    {
     "data": {
      "image/png": "[encoded data removed]",
      "text/plain": [
       "<Figure size 1152x576 with 2 Axes>"
      ]
     },
     "metadata": {
      "needs_background": "light"
     },
     "output_type": "display_data"
    }
   ],
   "source": [
    "# Learning curves \n",
    "\n",
    "acc = history.history['accuracy']\n",
    "val_acc = history.history['val_accuracy']\n",
    "loss=history.history['loss']\n",
    "val_loss=history.history['val_loss']\n",
    "\n",
    "plt.figure(figsize=(16,8))\n",
    "plt.subplot(1, 2, 1)\n",
    "plt.plot(acc, label='Training Accuracy')\n",
    "plt.plot(val_acc, label='Validation Accuracy')\n",
    "plt.legend(loc='lower right')\n",
    "plt.title('Training and Validation Accuracy')\n",
    "plt.xlabel(\"epochs\")\n",
    "plt.ylabel(\"accuracy\")\n",
    "\n",
    "plt.subplot(1, 2, 2)\n",
    "plt.plot(loss, label='Training Loss')\n",
    "plt.plot(val_loss, label='Validation Loss')\n",
    "plt.legend(loc='upper right')\n",
    "plt.title('Training and Validation Loss')\n",
    "plt.xlabel(\"epochs\")\n",
    "plt.ylabel(\"loss\")\n",
    "plt.show()"
   ]
  },
  {
   "cell_type": "markdown",
   "metadata": {
    "id": "I_PRZPplHqmV"
   },
   "source": [
    "## LSTM"
   ]
  },
  {
   "cell_type": "code",
   "execution_count": 67,
   "metadata": {
    "id": "-T3A0-TWmDS8"
   },
   "outputs": [],
   "source": [
    "def define_model3(vocab_size, max_length):\n",
    "    model3 = Sequential()\n",
    "    model3.add(Embedding(vocab_size,300, input_length=max_length))\n",
    "    model3.add(LSTM(500))\n",
    "    model3.add(Dense(10, activation='softmax'))\n",
    "    \n",
    "    model3.compile(loss = 'categorical_crossentropy',optimizer = 'adam',metrics = ['accuracy'])\n",
    "    \n",
    "    # summarize defined model\n",
    "    model3.summary()\n",
    "    return model3"
   ]
  },
  {
   "cell_type": "code",
   "execution_count": 68,
   "metadata": {
    "colab": {
     "base_uri": "https://localhost:8080/"
    },
    "id": "iNtO1edjHxt6",
    "outputId": "649205f4-53fa-4ba1-909b-827dab404f80"
   },
   "outputs": [
    {
     "name": "stdout",
     "output_type": "stream",
     "text": [
      "Model: \"sequential_2\"\n",
      "_________________________________________________________________\n",
      " Layer (type)                Output Shape              Param #   \n",
      "=================================================================\n",
      " embedding_2 (Embedding)     (None, 10, 300)           19800     \n",
      "                                                                 \n",
      " lstm (LSTM)                 (None, 500)               1602000   \n",
      "                                                                 \n",
      " dense_3 (Dense)             (None, 10)                5010      \n",
      "                                                                 \n",
      "=================================================================\n",
      "Total params: 1,626,810\n",
      "Trainable params: 1,626,810\n",
      "Non-trainable params: 0\n",
      "_________________________________________________________________\n"
     ]
    }
   ],
   "source": [
    "model3 = define_model3(vocab_size, max_length)"
   ]
  },
  {
   "cell_type": "code",
   "execution_count": 69,
   "metadata": {
    "colab": {
     "base_uri": "https://localhost:8080/"
    },
    "id": "FGq3NSaJCoJg",
    "outputId": "8bbbeb09-6b9c-45c8-ef4e-38beb1ffa860"
   },
   "outputs": [
    {
     "name": "stdout",
     "output_type": "stream",
     "text": [
      "Epoch 1/15\n",
      "1/1 [==============================] - 4s 4s/step - loss: 2.3047 - accuracy: 0.1667 - val_loss: 2.2945 - val_accuracy: 0.0000e+00\n",
      "Epoch 2/15\n",
      "1/1 [==============================] - 0s 106ms/step - loss: 2.2506 - accuracy: 0.5833 - val_loss: 2.2857 - val_accuracy: 0.0000e+00\n",
      "Epoch 3/15\n",
      "1/1 [==============================] - 0s 96ms/step - loss: 2.1945 - accuracy: 0.5833 - val_loss: 2.2795 - val_accuracy: 0.0000e+00\n",
      "Epoch 4/15\n",
      "1/1 [==============================] - 0s 104ms/step - loss: 2.1294 - accuracy: 0.5000 - val_loss: 2.2800 - val_accuracy: 0.0000e+00\n",
      "Epoch 5/15\n",
      "1/1 [==============================] - 0s 104ms/step - loss: 2.0507 - accuracy: 0.5000 - val_loss: 2.3001 - val_accuracy: 0.0000e+00\n",
      "Epoch 6/15\n",
      "1/1 [==============================] - 0s 92ms/step - loss: 1.9590 - accuracy: 0.5000 - val_loss: 2.3614 - val_accuracy: 0.1000\n",
      "Epoch 7/15\n",
      "1/1 [==============================] - 0s 96ms/step - loss: 1.8666 - accuracy: 0.4167 - val_loss: 2.4498 - val_accuracy: 0.1000\n",
      "Epoch 8/15\n",
      "1/1 [==============================] - 0s 97ms/step - loss: 1.7744 - accuracy: 0.4167 - val_loss: 2.4690 - val_accuracy: 0.2000\n",
      "Epoch 9/15\n",
      "1/1 [==============================] - 0s 103ms/step - loss: 1.6405 - accuracy: 0.4167 - val_loss: 2.4073 - val_accuracy: 0.2000\n",
      "Epoch 10/15\n",
      "1/1 [==============================] - 0s 104ms/step - loss: 1.4706 - accuracy: 0.6667 - val_loss: 2.3313 - val_accuracy: 0.2000\n",
      "Epoch 11/15\n",
      "1/1 [==============================] - 0s 101ms/step - loss: 1.3277 - accuracy: 0.6667 - val_loss: 2.3395 - val_accuracy: 0.1000\n",
      "Epoch 12/15\n",
      "1/1 [==============================] - 0s 95ms/step - loss: 1.2658 - accuracy: 0.5833 - val_loss: 2.4521 - val_accuracy: 0.1000\n",
      "Epoch 13/15\n",
      "1/1 [==============================] - 0s 92ms/step - loss: 1.1920 - accuracy: 0.5000 - val_loss: 2.6109 - val_accuracy: 0.2000\n",
      "Epoch 14/15\n",
      "1/1 [==============================] - 0s 95ms/step - loss: 1.0279 - accuracy: 0.6667 - val_loss: 2.8050 - val_accuracy: 0.1000\n",
      "Epoch 15/15\n",
      "1/1 [==============================] - 0s 105ms/step - loss: 0.8405 - accuracy: 1.0000 - val_loss: 2.9898 - val_accuracy: 0.1000\n"
     ]
    }
   ],
   "source": [
    "history = model3.fit(X_train, y_train, epochs=15, verbose=1,validation_data=(X_test,y_test))"
   ]
  },
  {
   "cell_type": "code",
   "execution_count": 70,
   "metadata": {
    "colab": {
     "base_uri": "https://localhost:8080/",
     "height": 513
    },
    "id": "36X8FbbgOhTf",
    "outputId": "d559e43f-df22-46de-a7a1-ec3c9cab5e07"
   },
   "outputs": [
    {
     "data": {
      "image/png": "[encoded data removed]",
      "text/plain": [
       "<Figure size 1152x576 with 2 Axes>"
      ]
     },
     "metadata": {
      "needs_background": "light"
     },
     "output_type": "display_data"
    }
   ],
   "source": [
    "# Learning curves \n",
    "\n",
    "acc = history.history['accuracy']\n",
    "val_acc = history.history['val_accuracy']\n",
    "loss=history.history['loss']\n",
    "val_loss=history.history['val_loss']\n",
    "\n",
    "plt.figure(figsize=(16,8))\n",
    "plt.subplot(1, 2, 1)\n",
    "plt.plot(acc, label='Training Accuracy')\n",
    "plt.plot(val_acc, label='Validation Accuracy')\n",
    "plt.legend(loc='lower right')\n",
    "plt.title('Training and Validation Accuracy')\n",
    "plt.xlabel(\"epochs\")\n",
    "plt.ylabel(\"accuracy\")\n",
    "\n",
    "plt.subplot(1, 2, 2)\n",
    "plt.plot(loss, label='Training Loss')\n",
    "plt.plot(val_loss, label='Validation Loss')\n",
    "plt.legend(loc='upper right')\n",
    "plt.title('Training and Validation Loss')\n",
    "plt.xlabel(\"epochs\")\n",
    "plt.ylabel(\"loss\")\n",
    "plt.show()"
   ]
  },
  {
   "cell_type": "markdown",
   "metadata": {
    "id": "qBmXCUoUct-Y"
   },
   "source": [
    "## GRU"
   ]
  },
  {
   "cell_type": "code",
   "execution_count": 71,
   "metadata": {
    "id": "xzIyloY3cyoD"
   },
   "outputs": [],
   "source": [
    "def define_model3(vocab_size, max_length):\n",
    "    model3 = Sequential()\n",
    "    model3.add(Embedding(vocab_size,300, input_length=max_length))\n",
    "    model3.add(GRU(500))\n",
    "    model3.add(Dense(10, activation='softmax'))\n",
    "    \n",
    "    model3.compile(loss = 'categorical_crossentropy',optimizer = 'adam',metrics = ['accuracy'])\n",
    "    \n",
    "    # summarize defined model\n",
    "    model3.summary()\n",
    "    return model3"
   ]
  },
  {
   "cell_type": "code",
   "execution_count": 72,
   "metadata": {
    "colab": {
     "base_uri": "https://localhost:8080/"
    },
    "id": "qEXaR-g4cylS",
    "outputId": "b8071e06-098e-4878-fae7-84a628aa0673"
   },
   "outputs": [
    {
     "name": "stdout",
     "output_type": "stream",
     "text": [
      "Model: \"sequential_3\"\n",
      "_________________________________________________________________\n",
      " Layer (type)                Output Shape              Param #   \n",
      "=================================================================\n",
      " embedding_3 (Embedding)     (None, 10, 300)           19800     \n",
      "                                                                 \n",
      " gru (GRU)                   (None, 500)               1203000   \n",
      "                                                                 \n",
      " dense_4 (Dense)             (None, 10)                5010      \n",
      "                                                                 \n",
      "=================================================================\n",
      "Total params: 1,227,810\n",
      "Trainable params: 1,227,810\n",
      "Non-trainable params: 0\n",
      "_________________________________________________________________\n"
     ]
    }
   ],
   "source": [
    "model3 = define_model3(vocab_size, max_length)"
   ]
  },
  {
   "cell_type": "code",
   "execution_count": 73,
   "metadata": {
    "colab": {
     "base_uri": "https://localhost:8080/"
    },
    "id": "49hqm9sWc1ED",
    "outputId": "b5da6e36-1690-4bd7-9f26-4706bf58a724"
   },
   "outputs": [
    {
     "name": "stdout",
     "output_type": "stream",
     "text": [
      "Epoch 1/15\n",
      "1/1 [==============================] - 4s 4s/step - loss: 2.2983 - accuracy: 0.1667 - val_loss: 2.2981 - val_accuracy: 0.1000\n",
      "Epoch 2/15\n",
      "1/1 [==============================] - 0s 90ms/step - loss: 2.2283 - accuracy: 0.2500 - val_loss: 2.2974 - val_accuracy: 0.1000\n",
      "Epoch 3/15\n",
      "1/1 [==============================] - 0s 92ms/step - loss: 2.1595 - accuracy: 0.3333 - val_loss: 2.3062 - val_accuracy: 0.1000\n",
      "Epoch 4/15\n",
      "1/1 [==============================] - 0s 92ms/step - loss: 2.0871 - accuracy: 0.4167 - val_loss: 2.3321 - val_accuracy: 0.0000e+00\n",
      "Epoch 5/15\n",
      "1/1 [==============================] - 0s 94ms/step - loss: 2.0112 - accuracy: 0.5000 - val_loss: 2.3846 - val_accuracy: 0.0000e+00\n",
      "Epoch 6/15\n",
      "1/1 [==============================] - 0s 96ms/step - loss: 1.9359 - accuracy: 0.5000 - val_loss: 2.4592 - val_accuracy: 0.0000e+00\n",
      "Epoch 7/15\n",
      "1/1 [==============================] - 0s 89ms/step - loss: 1.8602 - accuracy: 0.4167 - val_loss: 2.5111 - val_accuracy: 0.0000e+00\n",
      "Epoch 8/15\n",
      "1/1 [==============================] - 0s 83ms/step - loss: 1.7631 - accuracy: 0.4167 - val_loss: 2.5020 - val_accuracy: 0.0000e+00\n",
      "Epoch 9/15\n",
      "1/1 [==============================] - 0s 83ms/step - loss: 1.6226 - accuracy: 0.4167 - val_loss: 2.4372 - val_accuracy: 0.0000e+00\n",
      "Epoch 10/15\n",
      "1/1 [==============================] - 0s 83ms/step - loss: 1.4499 - accuracy: 0.5000 - val_loss: 2.3718 - val_accuracy: 0.1000\n",
      "Epoch 11/15\n",
      "1/1 [==============================] - 0s 78ms/step - loss: 1.3118 - accuracy: 0.5000 - val_loss: 2.4200 - val_accuracy: 0.2000\n",
      "Epoch 12/15\n",
      "1/1 [==============================] - 0s 82ms/step - loss: 1.3048 - accuracy: 0.4167 - val_loss: 2.4885 - val_accuracy: 0.1000\n",
      "Epoch 13/15\n",
      "1/1 [==============================] - 0s 103ms/step - loss: 1.2253 - accuracy: 0.4167 - val_loss: 2.5795 - val_accuracy: 0.0000e+00\n",
      "Epoch 14/15\n",
      "1/1 [==============================] - 0s 96ms/step - loss: 1.0909 - accuracy: 0.5000 - val_loss: 2.7172 - val_accuracy: 0.0000e+00\n",
      "Epoch 15/15\n",
      "1/1 [==============================] - 0s 92ms/step - loss: 0.9700 - accuracy: 0.7500 - val_loss: 2.9138 - val_accuracy: 0.1000\n"
     ]
    }
   ],
   "source": [
    "history = model3.fit(X_train, y_train, epochs=15, verbose=1,validation_data=(X_test,y_test))"
   ]
  },
  {
   "cell_type": "code",
   "execution_count": 74,
   "metadata": {
    "colab": {
     "base_uri": "https://localhost:8080/",
     "height": 513
    },
    "id": "xDKC13iBc3Bw",
    "outputId": "fb4ff52f-419b-4d2f-d781-446632aa796d"
   },
   "outputs": [
    {
     "data": {
      "image/png": "[encoded data removed]",
      "text/plain": [
       "<Figure size 1152x576 with 2 Axes>"
      ]
     },
     "metadata": {
      "needs_background": "light"
     },
     "output_type": "display_data"
    }
   ],
   "source": [
    "# Learning curves \n",
    "\n",
    "acc = history.history['accuracy']\n",
    "val_acc = history.history['val_accuracy']\n",
    "loss=history.history['loss']\n",
    "val_loss=history.history['val_loss']\n",
    "\n",
    "plt.figure(figsize=(16,8))\n",
    "plt.subplot(1, 2, 1)\n",
    "plt.plot(acc, label='Training Accuracy')\n",
    "plt.plot(val_acc, label='Validation Accuracy')\n",
    "plt.legend(loc='lower right')\n",
    "plt.title('Training and Validation Accuracy')\n",
    "plt.xlabel(\"epochs\")\n",
    "plt.ylabel(\"accuracy\")\n",
    "\n",
    "plt.subplot(1, 2, 2)\n",
    "plt.plot(loss, label='Training Loss')\n",
    "plt.plot(val_loss, label='Validation Loss')\n",
    "plt.legend(loc='upper right')\n",
    "plt.title('Training and Validation Loss')\n",
    "plt.xlabel(\"epochs\")\n",
    "plt.ylabel(\"loss\")\n",
    "plt.show()"
   ]
  },
  {
   "cell_type": "markdown",
   "metadata": {
    "id": "YJ2romsAsshs"
   },
   "source": [
    "## BiLSTM\n"
   ]
  },
  {
   "cell_type": "code",
   "execution_count": 75,
   "metadata": {
    "id": "b02HsFGVs0WV"
   },
   "outputs": [],
   "source": [
    "def define_model3(vocab_size, max_length):\n",
    "    model3 = Sequential()\n",
    "    model3.add(Embedding(vocab_size,300, input_length=max_length))\n",
    "    model3.add(Bidirectional(LSTM(500)))\n",
    "    model3.add(Dense(10, activation='softmax'))\n",
    "    \n",
    "    model3.compile(loss = 'categorical_crossentropy',optimizer = 'adam',metrics = ['accuracy'])\n",
    "    \n",
    "    # summarize defined model\n",
    "    model3.summary()\n",
    "    return model3"
   ]
  },
  {
   "cell_type": "code",
   "execution_count": 76,
   "metadata": {
    "colab": {
     "base_uri": "https://localhost:8080/"
    },
    "id": "I4VV9MlFs1Va",
    "outputId": "2c1f7a8a-5f09-4d3c-aa1d-86adb03de019"
   },
   "outputs": [
    {
     "name": "stdout",
     "output_type": "stream",
     "text": [
      "Model: \"sequential_4\"\n",
      "_________________________________________________________________\n",
      " Layer (type)                Output Shape              Param #   \n",
      "=================================================================\n",
      " embedding_4 (Embedding)     (None, 10, 300)           19800     \n",
      "                                                                 \n",
      " bidirectional (Bidirectiona  (None, 1000)             3204000   \n",
      " l)                                                              \n",
      "                                                                 \n",
      " dense_5 (Dense)             (None, 10)                10010     \n",
      "                                                                 \n",
      "=================================================================\n",
      "Total params: 3,233,810\n",
      "Trainable params: 3,233,810\n",
      "Non-trainable params: 0\n",
      "_________________________________________________________________\n"
     ]
    }
   ],
   "source": [
    "model3 = define_model3(vocab_size, max_length)"
   ]
  },
  {
   "cell_type": "code",
   "execution_count": 77,
   "metadata": {
    "colab": {
     "base_uri": "https://localhost:8080/"
    },
    "id": "xfNlWQazs1Sa",
    "outputId": "34d4b707-9efd-4f6f-de1c-af46e0b2950a"
   },
   "outputs": [
    {
     "name": "stdout",
     "output_type": "stream",
     "text": [
      "Epoch 1/10\n",
      "1/1 [==============================] - 7s 7s/step - loss: 2.3032 - accuracy: 0.2500 - val_loss: 2.2906 - val_accuracy: 0.0000e+00\n",
      "Epoch 2/10\n",
      "1/1 [==============================] - 0s 149ms/step - loss: 2.2315 - accuracy: 0.5000 - val_loss: 2.2816 - val_accuracy: 0.0000e+00\n",
      "Epoch 3/10\n",
      "1/1 [==============================] - 0s 150ms/step - loss: 2.1559 - accuracy: 0.5000 - val_loss: 2.2786 - val_accuracy: 0.1000\n",
      "Epoch 4/10\n",
      "1/1 [==============================] - 0s 146ms/step - loss: 2.0669 - accuracy: 0.5000 - val_loss: 2.2962 - val_accuracy: 0.1000\n",
      "Epoch 5/10\n",
      "1/1 [==============================] - 0s 142ms/step - loss: 1.9603 - accuracy: 0.5000 - val_loss: 2.3808 - val_accuracy: 0.1000\n",
      "Epoch 6/10\n",
      "1/1 [==============================] - 0s 134ms/step - loss: 1.8547 - accuracy: 0.4167 - val_loss: 2.5361 - val_accuracy: 0.1000\n",
      "Epoch 7/10\n",
      "1/1 [==============================] - 0s 142ms/step - loss: 1.7737 - accuracy: 0.5000 - val_loss: 2.5067 - val_accuracy: 0.1000\n",
      "Epoch 8/10\n",
      "1/1 [==============================] - 0s 155ms/step - loss: 1.6323 - accuracy: 0.5000 - val_loss: 2.4002 - val_accuracy: 0.1000\n",
      "Epoch 9/10\n",
      "1/1 [==============================] - 0s 149ms/step - loss: 1.4678 - accuracy: 0.5833 - val_loss: 2.3213 - val_accuracy: 0.2000\n",
      "Epoch 10/10\n",
      "1/1 [==============================] - 0s 142ms/step - loss: 1.3057 - accuracy: 0.8333 - val_loss: 2.3014 - val_accuracy: 0.0000e+00\n"
     ]
    }
   ],
   "source": [
    "history = model3.fit(X_train, y_train, epochs=10, verbose=1,validation_data=(X_test,y_test))"
   ]
  },
  {
   "cell_type": "code",
   "execution_count": 78,
   "metadata": {
    "colab": {
     "base_uri": "https://localhost:8080/",
     "height": 513
    },
    "id": "_XGvXqCfs1Qf",
    "outputId": "45e3d1d9-1171-4f92-9a6e-53c29ff8583e"
   },
   "outputs": [
    {
     "data": {
      "image/png": "[encoded data removed]",
      "text/plain": [
       "<Figure size 1152x576 with 2 Axes>"
      ]
     },
     "metadata": {
      "needs_background": "light"
     },
     "output_type": "display_data"
    }
   ],
   "source": [
    "# Learning curves \n",
    "\n",
    "acc = history.history['accuracy']\n",
    "val_acc = history.history['val_accuracy']\n",
    "loss=history.history['loss']\n",
    "val_loss=history.history['val_loss']\n",
    "\n",
    "plt.figure(figsize=(16,8))\n",
    "plt.subplot(1, 2, 1)\n",
    "plt.plot(acc, label='Training Accuracy')\n",
    "plt.plot(val_acc, label='Validation Accuracy')\n",
    "plt.legend(loc='lower right')\n",
    "plt.title('Training and Validation Accuracy')\n",
    "plt.xlabel(\"epochs\")\n",
    "plt.ylabel(\"accuracy\")\n",
    "\n",
    "plt.subplot(1, 2, 2)\n",
    "plt.plot(loss, label='Training Loss')\n",
    "plt.plot(val_loss, label='Validation Loss')\n",
    "plt.legend(loc='upper right')\n",
    "plt.title('Training and Validation Loss')\n",
    "plt.xlabel(\"epochs\")\n",
    "plt.ylabel(\"loss\")\n",
    "plt.show()"
   ]
  }
 ],
 "metadata": {
  "colab": {
   "collapsed_sections": [],
   "name": "Retrieval based",
   "provenance": []
  },
  "kernelspec": {
   "display_name": "Python 3 (ipykernel)",
   "language": "python",
   "name": "python3"
  },
  "language_info": {
   "codemirror_mode": {
    "name": "ipython",
    "version": 3
   },
   "file_extension": ".py",
   "mimetype": "text/x-python",
   "name": "python",
   "nbconvert_exporter": "python",
   "pygments_lexer": "ipython3",
   "version": "3.9.12"
  }
 },
 "nbformat": 4,
 "nbformat_minor": 1
}
